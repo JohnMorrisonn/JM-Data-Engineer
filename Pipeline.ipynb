{
 "cells": [
  {
   "cell_type": "code",
   "execution_count": 2,
   "metadata": {},
   "outputs": [],
   "source": [
    "import os\n",
    "import pandas as pd\n",
    "import mysql.connector\n",
    "import pickle\n",
    "from flask import Flask, render_template, request, jsonify\n",
    "from sklearn.ensemble import RandomForestClassifier\n",
    "from sklearn.feature_extraction.text import TfidfVectorizer\n",
    "from sklearn.preprocessing import OneHotEncoder\n",
    "import plotly.graph_objects as go"
   ]
  },
  {
   "cell_type": "code",
   "execution_count": 9,
   "metadata": {},
   "outputs": [],
   "source": [
    "filename = open('model.pkl', 'rb')\n",
    "model = pickle.load(filename)"
   ]
  },
  {
   "cell_type": "code",
   "execution_count": 23,
   "metadata": {},
   "outputs": [
    {
     "data": {
      "text/html": [
       "<div>\n",
       "<style scoped>\n",
       "    .dataframe tbody tr th:only-of-type {\n",
       "        vertical-align: middle;\n",
       "    }\n",
       "\n",
       "    .dataframe tbody tr th {\n",
       "        vertical-align: top;\n",
       "    }\n",
       "\n",
       "    .dataframe thead th {\n",
       "        text-align: right;\n",
       "    }\n",
       "</style>\n",
       "<table border=\"1\" class=\"dataframe\">\n",
       "  <thead>\n",
       "    <tr style=\"text-align: right;\">\n",
       "      <th></th>\n",
       "      <th>campaignName</th>\n",
       "      <th>description</th>\n",
       "      <th>monetaryGoal</th>\n",
       "      <th>duration</th>\n",
       "      <th>categories</th>\n",
       "      <th>country</th>\n",
       "      <th>user_id</th>\n",
       "    </tr>\n",
       "  </thead>\n",
       "  <tbody>\n",
       "    <tr>\n",
       "      <th>0</th>\n",
       "      <td>test</td>\n",
       "      <td>test</td>\n",
       "      <td>100000</td>\n",
       "      <td>35</td>\n",
       "      <td>142</td>\n",
       "      <td>3</td>\n",
       "      <td>15</td>\n",
       "    </tr>\n",
       "  </tbody>\n",
       "</table>\n",
       "</div>"
      ],
      "text/plain": [
       "  campaignName description monetaryGoal  duration  categories  country  \\\n",
       "0         test        test       100000        35         142        3   \n",
       "\n",
       "   user_id  \n",
       "0       15  "
      ]
     },
     "execution_count": 23,
     "metadata": {},
     "output_type": "execute_result"
    }
   ],
   "source": [
    "test = {\n",
    "  \"campaignName\": \"test\",\n",
    "  \"description\": \"test\",\n",
    "  \"monetaryGoal\": \"100000\",\n",
    "  \"duration\": 35,\n",
    "  \"categories\":142,\n",
    "  \"country\": 3,\n",
    "  \"user_id\": 15\n",
    "}\n",
    "\n",
    "data = test\n",
    "\n",
    "# Change json to dataframe\n",
    "data.update((x, [y]) for x, y in data.items())\n",
    "data_df = pd.DataFrame.from_dict(data)\n",
    "data_df"
   ]
  },
  {
   "cell_type": "code",
   "execution_count": 10,
   "metadata": {
    "scrolled": true
   },
   "outputs": [
    {
     "data": {
      "text/html": [
       "<div>\n",
       "<style scoped>\n",
       "    .dataframe tbody tr th:only-of-type {\n",
       "        vertical-align: middle;\n",
       "    }\n",
       "\n",
       "    .dataframe tbody tr th {\n",
       "        vertical-align: top;\n",
       "    }\n",
       "\n",
       "    .dataframe thead th {\n",
       "        text-align: right;\n",
       "    }\n",
       "</style>\n",
       "<table border=\"1\" class=\"dataframe\">\n",
       "  <thead>\n",
       "    <tr style=\"text-align: right;\">\n",
       "      <th></th>\n",
       "      <th>id</th>\n",
       "      <th>campaignName</th>\n",
       "      <th>description</th>\n",
       "      <th>categories</th>\n",
       "      <th>duration</th>\n",
       "      <th>monetaryGoal</th>\n",
       "      <th>country</th>\n",
       "      <th>city</th>\n",
       "      <th>state</th>\n",
       "      <th>date_created</th>\n",
       "      <th>deadline_date</th>\n",
       "      <th>launched_date</th>\n",
       "      <th>state_changed_at</th>\n",
       "      <th>backers_count</th>\n",
       "      <th>usd_pledged</th>\n",
       "      <th>url</th>\n",
       "      <th>target</th>\n",
       "    </tr>\n",
       "  </thead>\n",
       "  <tbody>\n",
       "    <tr>\n",
       "      <th>0</th>\n",
       "      <td>1123889576</td>\n",
       "      <td>mars-on-earth-an-art-residency</td>\n",
       "      <td>Help a fine art photographer continue her proj...</td>\n",
       "      <td>Space Exploration</td>\n",
       "      <td>27</td>\n",
       "      <td>1000</td>\n",
       "      <td>US</td>\n",
       "      <td>Boston</td>\n",
       "      <td>MA</td>\n",
       "      <td>2015-06-24</td>\n",
       "      <td>2015-10-23</td>\n",
       "      <td>2015-09-26</td>\n",
       "      <td>2015-10-23</td>\n",
       "      <td>53</td>\n",
       "      <td>1884</td>\n",
       "      <td>https://www.kickstarter.com/projects/cassandra...</td>\n",
       "      <td>successful</td>\n",
       "    </tr>\n",
       "    <tr>\n",
       "      <th>1</th>\n",
       "      <td>1724173143</td>\n",
       "      <td>vulcan-i-rocket-powered-by-3d-printed-engine</td>\n",
       "      <td>Team of undergraduates racing to be the first ...</td>\n",
       "      <td>Space Exploration</td>\n",
       "      <td>30</td>\n",
       "      <td>15000</td>\n",
       "      <td>US</td>\n",
       "      <td>San Diego</td>\n",
       "      <td>CA</td>\n",
       "      <td>2014-05-06</td>\n",
       "      <td>2015-05-21</td>\n",
       "      <td>2015-04-21</td>\n",
       "      <td>2015-05-21</td>\n",
       "      <td>465</td>\n",
       "      <td>21882</td>\n",
       "      <td>https://www.kickstarter.com/projects/105499101...</td>\n",
       "      <td>successful</td>\n",
       "    </tr>\n",
       "    <tr>\n",
       "      <th>2</th>\n",
       "      <td>707260502</td>\n",
       "      <td>starscraper-the-next-generation-of-suborbital-...</td>\n",
       "      <td>What if we built a rocket that is better than ...</td>\n",
       "      <td>Space Exploration</td>\n",
       "      <td>31</td>\n",
       "      <td>10000</td>\n",
       "      <td>US</td>\n",
       "      <td>Boston</td>\n",
       "      <td>MA</td>\n",
       "      <td>2014-11-29</td>\n",
       "      <td>2015-01-09</td>\n",
       "      <td>2014-12-09</td>\n",
       "      <td>2015-01-09</td>\n",
       "      <td>294</td>\n",
       "      <td>17176</td>\n",
       "      <td>https://www.kickstarter.com/projects/burpg/sta...</td>\n",
       "      <td>successful</td>\n",
       "    </tr>\n",
       "    <tr>\n",
       "      <th>3</th>\n",
       "      <td>497637964</td>\n",
       "      <td>students-building-a-near-space-balloon-with-li...</td>\n",
       "      <td>A group of high school students are building a...</td>\n",
       "      <td>Space Exploration</td>\n",
       "      <td>30</td>\n",
       "      <td>150</td>\n",
       "      <td>US</td>\n",
       "      <td>Mountain View</td>\n",
       "      <td>CA</td>\n",
       "      <td>2014-11-19</td>\n",
       "      <td>2015-11-26</td>\n",
       "      <td>2015-10-27</td>\n",
       "      <td>2015-11-26</td>\n",
       "      <td>45</td>\n",
       "      <td>970</td>\n",
       "      <td>https://www.kickstarter.com/projects/136362214...</td>\n",
       "      <td>successful</td>\n",
       "    </tr>\n",
       "    <tr>\n",
       "      <th>4</th>\n",
       "      <td>1546008758</td>\n",
       "      <td>earth-360</td>\n",
       "      <td>Re-inventing the way we look at our planet by ...</td>\n",
       "      <td>Space Exploration</td>\n",
       "      <td>30</td>\n",
       "      <td>7500</td>\n",
       "      <td>US</td>\n",
       "      <td>Fairfield</td>\n",
       "      <td>CT</td>\n",
       "      <td>2012-04-11</td>\n",
       "      <td>2012-09-21</td>\n",
       "      <td>2012-08-22</td>\n",
       "      <td>2012-09-21</td>\n",
       "      <td>28</td>\n",
       "      <td>7576</td>\n",
       "      <td>https://www.kickstarter.com/projects/211370922...</td>\n",
       "      <td>successful</td>\n",
       "    </tr>\n",
       "    <tr>\n",
       "      <th>5</th>\n",
       "      <td>344236683</td>\n",
       "      <td>kansas-city-ssep-mission-5-rocket-321-blast-off</td>\n",
       "      <td>Middle-schoolers designed a microgravity exper...</td>\n",
       "      <td>Space Exploration</td>\n",
       "      <td>29</td>\n",
       "      <td>10500</td>\n",
       "      <td>US</td>\n",
       "      <td>Kansas City</td>\n",
       "      <td>MO</td>\n",
       "      <td>2014-03-24</td>\n",
       "      <td>2014-04-30</td>\n",
       "      <td>2014-04-01</td>\n",
       "      <td>2014-04-30</td>\n",
       "      <td>100</td>\n",
       "      <td>10710</td>\n",
       "      <td>https://www.kickstarter.com/projects/kcssepmis...</td>\n",
       "      <td>successful</td>\n",
       "    </tr>\n",
       "    <tr>\n",
       "      <th>6</th>\n",
       "      <td>1837559447</td>\n",
       "      <td>action-man-gi-joe-mission-mercury-10</td>\n",
       "      <td>Mission to launch a vintage Action Man and Spa...</td>\n",
       "      <td>Space Exploration</td>\n",
       "      <td>37</td>\n",
       "      <td>2842</td>\n",
       "      <td>GB</td>\n",
       "      <td>Coalville</td>\n",
       "      <td>England</td>\n",
       "      <td>2016-02-08</td>\n",
       "      <td>2016-04-30</td>\n",
       "      <td>2016-03-24</td>\n",
       "      <td>2016-04-30</td>\n",
       "      <td>72</td>\n",
       "      <td>4825</td>\n",
       "      <td>https://www.kickstarter.com/projects/actionman...</td>\n",
       "      <td>successful</td>\n",
       "    </tr>\n",
       "    <tr>\n",
       "      <th>7</th>\n",
       "      <td>281256757</td>\n",
       "      <td>asteroid-what-very-near-earth-asteroids</td>\n",
       "      <td>Free and easy to use information when asteroid...</td>\n",
       "      <td>Space Exploration</td>\n",
       "      <td>27</td>\n",
       "      <td>1456</td>\n",
       "      <td>AU</td>\n",
       "      <td>Sydney</td>\n",
       "      <td>NSW</td>\n",
       "      <td>2016-04-27</td>\n",
       "      <td>2016-06-30</td>\n",
       "      <td>2016-06-03</td>\n",
       "      <td>2016-06-30</td>\n",
       "      <td>81</td>\n",
       "      <td>2300</td>\n",
       "      <td>https://www.kickstarter.com/projects/559654604...</td>\n",
       "      <td>successful</td>\n",
       "    </tr>\n",
       "    <tr>\n",
       "      <th>8</th>\n",
       "      <td>1920229724</td>\n",
       "      <td>james-webb-deployable-model</td>\n",
       "      <td>Production of variously-sized deployable model...</td>\n",
       "      <td>Space Exploration</td>\n",
       "      <td>30</td>\n",
       "      <td>25000</td>\n",
       "      <td>US</td>\n",
       "      <td>Durango</td>\n",
       "      <td>CO</td>\n",
       "      <td>2015-07-08</td>\n",
       "      <td>2015-08-25</td>\n",
       "      <td>2015-07-26</td>\n",
       "      <td>2015-08-25</td>\n",
       "      <td>238</td>\n",
       "      <td>28633</td>\n",
       "      <td>https://www.kickstarter.com/projects/202718351...</td>\n",
       "      <td>successful</td>\n",
       "    </tr>\n",
       "    <tr>\n",
       "      <th>9</th>\n",
       "      <td>283133908</td>\n",
       "      <td>equatorial-sundial-learn-about-planetary-motion</td>\n",
       "      <td>A simple way to learn and teach complex astron...</td>\n",
       "      <td>Space Exploration</td>\n",
       "      <td>30</td>\n",
       "      <td>500</td>\n",
       "      <td>US</td>\n",
       "      <td>Lincoln</td>\n",
       "      <td>CA</td>\n",
       "      <td>2014-09-07</td>\n",
       "      <td>2014-10-20</td>\n",
       "      <td>2014-09-20</td>\n",
       "      <td>2014-10-20</td>\n",
       "      <td>159</td>\n",
       "      <td>4388</td>\n",
       "      <td>https://www.kickstarter.com/projects/805298412...</td>\n",
       "      <td>successful</td>\n",
       "    </tr>\n",
       "    <tr>\n",
       "      <th>10</th>\n",
       "      <td>527007908</td>\n",
       "      <td>pie-in-space-round-2</td>\n",
       "      <td>The second round of funding for the most amazi...</td>\n",
       "      <td>Space Exploration</td>\n",
       "      <td>30</td>\n",
       "      <td>347</td>\n",
       "      <td>US</td>\n",
       "      <td>Seattle</td>\n",
       "      <td>WA</td>\n",
       "      <td>2014-12-04</td>\n",
       "      <td>2015-01-15</td>\n",
       "      <td>2014-12-16</td>\n",
       "      <td>2015-01-15</td>\n",
       "      <td>14</td>\n",
       "      <td>353</td>\n",
       "      <td>https://www.kickstarter.com/projects/92851479/...</td>\n",
       "      <td>successful</td>\n",
       "    </tr>\n",
       "    <tr>\n",
       "      <th>11</th>\n",
       "      <td>1621761331</td>\n",
       "      <td>mission-space</td>\n",
       "      <td>Mission Space is run by me, a teenager who has...</td>\n",
       "      <td>Space Exploration</td>\n",
       "      <td>30</td>\n",
       "      <td>454</td>\n",
       "      <td>GB</td>\n",
       "      <td>Dorchester</td>\n",
       "      <td>England</td>\n",
       "      <td>2015-01-09</td>\n",
       "      <td>2015-02-19</td>\n",
       "      <td>2015-01-20</td>\n",
       "      <td>2015-02-19</td>\n",
       "      <td>49</td>\n",
       "      <td>744</td>\n",
       "      <td>https://www.kickstarter.com/projects/138826061...</td>\n",
       "      <td>successful</td>\n",
       "    </tr>\n",
       "    <tr>\n",
       "      <th>12</th>\n",
       "      <td>122156080</td>\n",
       "      <td>reboot-the-suit-bring-back-neil-armstrongs-spa...</td>\n",
       "      <td>A chance for citizens of Earth to conserve, di...</td>\n",
       "      <td>Space Exploration</td>\n",
       "      <td>30</td>\n",
       "      <td>500000</td>\n",
       "      <td>US</td>\n",
       "      <td>Washington</td>\n",
       "      <td>DC</td>\n",
       "      <td>2015-06-30</td>\n",
       "      <td>2015-08-19</td>\n",
       "      <td>2015-07-20</td>\n",
       "      <td>2015-08-19</td>\n",
       "      <td>9477</td>\n",
       "      <td>719779</td>\n",
       "      <td>https://www.kickstarter.com/projects/smithsoni...</td>\n",
       "      <td>successful</td>\n",
       "    </tr>\n",
       "    <tr>\n",
       "      <th>13</th>\n",
       "      <td>1529428631</td>\n",
       "      <td>lightsail-a-revolutionary-solar-sailing-spacec...</td>\n",
       "      <td>Unlimited free energy from the sun will provid...</td>\n",
       "      <td>Space Exploration</td>\n",
       "      <td>45</td>\n",
       "      <td>200000</td>\n",
       "      <td>US</td>\n",
       "      <td>Pasadena</td>\n",
       "      <td>CA</td>\n",
       "      <td>2015-03-21</td>\n",
       "      <td>2015-06-26</td>\n",
       "      <td>2015-05-12</td>\n",
       "      <td>2015-06-26</td>\n",
       "      <td>23331</td>\n",
       "      <td>1241615</td>\n",
       "      <td>https://www.kickstarter.com/projects/theplanet...</td>\n",
       "      <td>successful</td>\n",
       "    </tr>\n",
       "    <tr>\n",
       "      <th>14</th>\n",
       "      <td>1515777660</td>\n",
       "      <td>final-frontier-designs-3g-space-suit</td>\n",
       "      <td>We are building a flight certified space suit ...</td>\n",
       "      <td>Space Exploration</td>\n",
       "      <td>30</td>\n",
       "      <td>20000</td>\n",
       "      <td>US</td>\n",
       "      <td>Brooklyn</td>\n",
       "      <td>NY</td>\n",
       "      <td>2012-06-11</td>\n",
       "      <td>2012-07-15</td>\n",
       "      <td>2012-06-15</td>\n",
       "      <td>2012-07-15</td>\n",
       "      <td>386</td>\n",
       "      <td>27632</td>\n",
       "      <td>https://www.kickstarter.com/projects/872281861...</td>\n",
       "      <td>successful</td>\n",
       "    </tr>\n",
       "    <tr>\n",
       "      <th>15</th>\n",
       "      <td>277509086</td>\n",
       "      <td>virtual-ride-to-space-vr2space</td>\n",
       "      <td>A weather balloon will carry 12 HD video camer...</td>\n",
       "      <td>Space Exploration</td>\n",
       "      <td>30</td>\n",
       "      <td>8489</td>\n",
       "      <td>GB</td>\n",
       "      <td>Surrey</td>\n",
       "      <td>England</td>\n",
       "      <td>2014-05-31</td>\n",
       "      <td>2014-07-20</td>\n",
       "      <td>2014-06-20</td>\n",
       "      <td>2014-07-20</td>\n",
       "      <td>354</td>\n",
       "      <td>9145</td>\n",
       "      <td>https://www.kickstarter.com/projects/159283937...</td>\n",
       "      <td>successful</td>\n",
       "    </tr>\n",
       "    <tr>\n",
       "      <th>16</th>\n",
       "      <td>2128627323</td>\n",
       "      <td>kicksat-your-personal-spacecraft-in-space</td>\n",
       "      <td>Would you like to have your own spacecraft?  K...</td>\n",
       "      <td>Space Exploration</td>\n",
       "      <td>60</td>\n",
       "      <td>30000</td>\n",
       "      <td>US</td>\n",
       "      <td>Ithaca</td>\n",
       "      <td>NY</td>\n",
       "      <td>2011-09-22</td>\n",
       "      <td>2011-12-03</td>\n",
       "      <td>2011-10-04</td>\n",
       "      <td>2011-12-03</td>\n",
       "      <td>315</td>\n",
       "      <td>74586</td>\n",
       "      <td>https://www.kickstarter.com/projects/zacinacti...</td>\n",
       "      <td>successful</td>\n",
       "    </tr>\n",
       "    <tr>\n",
       "      <th>17</th>\n",
       "      <td>1632425145</td>\n",
       "      <td>historic-robotic-spacecraft-poster-series-two</td>\n",
       "      <td>Chop Shop’s second series of posters celebrati...</td>\n",
       "      <td>Space Exploration</td>\n",
       "      <td>44</td>\n",
       "      <td>8000</td>\n",
       "      <td>US</td>\n",
       "      <td>Philadelphia</td>\n",
       "      <td>PA</td>\n",
       "      <td>2015-06-09</td>\n",
       "      <td>2015-08-12</td>\n",
       "      <td>2015-06-29</td>\n",
       "      <td>2015-08-12</td>\n",
       "      <td>398</td>\n",
       "      <td>32616</td>\n",
       "      <td>https://www.kickstarter.com/projects/chopshops...</td>\n",
       "      <td>successful</td>\n",
       "    </tr>\n",
       "    <tr>\n",
       "      <th>18</th>\n",
       "      <td>980177559</td>\n",
       "      <td>ardusat-your-arduino-experiment-in-space</td>\n",
       "      <td>We love Arduino and we love space exploration....</td>\n",
       "      <td>Space Exploration</td>\n",
       "      <td>30</td>\n",
       "      <td>35000</td>\n",
       "      <td>US</td>\n",
       "      <td>San Jose</td>\n",
       "      <td>CA</td>\n",
       "      <td>2012-05-18</td>\n",
       "      <td>2012-07-15</td>\n",
       "      <td>2012-06-15</td>\n",
       "      <td>2012-07-15</td>\n",
       "      <td>676</td>\n",
       "      <td>106330</td>\n",
       "      <td>https://www.kickstarter.com/projects/575960623...</td>\n",
       "      <td>successful</td>\n",
       "    </tr>\n",
       "    <tr>\n",
       "      <th>19</th>\n",
       "      <td>2124248901</td>\n",
       "      <td>skycube-the-first-satellite-launched-by-you</td>\n",
       "      <td>A nano-satellite that lets you take Earth imag...</td>\n",
       "      <td>Space Exploration</td>\n",
       "      <td>60</td>\n",
       "      <td>82500</td>\n",
       "      <td>US</td>\n",
       "      <td>San Francisco</td>\n",
       "      <td>CA</td>\n",
       "      <td>2012-05-30</td>\n",
       "      <td>2012-09-12</td>\n",
       "      <td>2012-07-14</td>\n",
       "      <td>2012-09-12</td>\n",
       "      <td>2711</td>\n",
       "      <td>116890</td>\n",
       "      <td>https://www.kickstarter.com/projects/880837561...</td>\n",
       "      <td>successful</td>\n",
       "    </tr>\n",
       "    <tr>\n",
       "      <th>20</th>\n",
       "      <td>944722049</td>\n",
       "      <td>heartsat-a-scientifically-rewarding-journey-to...</td>\n",
       "      <td>Not just another balloon launch, HEARTSAT will...</td>\n",
       "      <td>Space Exploration</td>\n",
       "      <td>30</td>\n",
       "      <td>1900</td>\n",
       "      <td>US</td>\n",
       "      <td>Sanbornton</td>\n",
       "      <td>NH</td>\n",
       "      <td>2012-08-07</td>\n",
       "      <td>2012-09-12</td>\n",
       "      <td>2012-08-13</td>\n",
       "      <td>2012-09-12</td>\n",
       "      <td>170</td>\n",
       "      <td>3751</td>\n",
       "      <td>https://www.kickstarter.com/projects/145704440...</td>\n",
       "      <td>successful</td>\n",
       "    </tr>\n",
       "    <tr>\n",
       "      <th>21</th>\n",
       "      <td>1549352300</td>\n",
       "      <td>cat-launch-a-water-propelled-satellite-into-de...</td>\n",
       "      <td>Join the first crowdsourced mission to explore...</td>\n",
       "      <td>Space Exploration</td>\n",
       "      <td>19</td>\n",
       "      <td>50000</td>\n",
       "      <td>US</td>\n",
       "      <td>Ann Arbor</td>\n",
       "      <td>MI</td>\n",
       "      <td>2013-09-25</td>\n",
       "      <td>2013-12-21</td>\n",
       "      <td>2013-12-02</td>\n",
       "      <td>2013-12-21</td>\n",
       "      <td>1185</td>\n",
       "      <td>96799</td>\n",
       "      <td>https://www.kickstarter.com/projects/longmier/...</td>\n",
       "      <td>successful</td>\n",
       "    </tr>\n",
       "    <tr>\n",
       "      <th>22</th>\n",
       "      <td>652085180</td>\n",
       "      <td>bright-eye-telescopes</td>\n",
       "      <td>Launch on the easiest route to the stars: POIN...</td>\n",
       "      <td>Space Exploration</td>\n",
       "      <td>34</td>\n",
       "      <td>20000</td>\n",
       "      <td>US</td>\n",
       "      <td>Berkeley</td>\n",
       "      <td>CA</td>\n",
       "      <td>2016-04-12</td>\n",
       "      <td>2016-05-24</td>\n",
       "      <td>2016-04-20</td>\n",
       "      <td>2016-05-24</td>\n",
       "      <td>108</td>\n",
       "      <td>31557</td>\n",
       "      <td>https://www.kickstarter.com/projects/159294665...</td>\n",
       "      <td>successful</td>\n",
       "    </tr>\n",
       "    <tr>\n",
       "      <th>23</th>\n",
       "      <td>1966069095</td>\n",
       "      <td>arkyd-a-space-telescope-for-everyone-0</td>\n",
       "      <td>The first publicly accessible space telescope!...</td>\n",
       "      <td>Space Exploration</td>\n",
       "      <td>33</td>\n",
       "      <td>1000000</td>\n",
       "      <td>US</td>\n",
       "      <td>Seattle</td>\n",
       "      <td>WA</td>\n",
       "      <td>2012-07-10</td>\n",
       "      <td>2013-07-01</td>\n",
       "      <td>2013-05-29</td>\n",
       "      <td>2013-07-01</td>\n",
       "      <td>17614</td>\n",
       "      <td>1505366</td>\n",
       "      <td>https://www.kickstarter.com/projects/arkydfore...</td>\n",
       "      <td>successful</td>\n",
       "    </tr>\n",
       "    <tr>\n",
       "      <th>24</th>\n",
       "      <td>234929090</td>\n",
       "      <td>bicycle-astronomy</td>\n",
       "      <td>Bicyle Astronomy is a project to bring sustain...</td>\n",
       "      <td>Space Exploration</td>\n",
       "      <td>37</td>\n",
       "      <td>5000</td>\n",
       "      <td>US</td>\n",
       "      <td>Geneva</td>\n",
       "      <td>NY</td>\n",
       "      <td>2011-08-18</td>\n",
       "      <td>2012-08-05</td>\n",
       "      <td>2012-06-29</td>\n",
       "      <td>2012-08-05</td>\n",
       "      <td>145</td>\n",
       "      <td>5872</td>\n",
       "      <td>https://www.kickstarter.com/projects/145199108...</td>\n",
       "      <td>successful</td>\n",
       "    </tr>\n",
       "    <tr>\n",
       "      <th>25</th>\n",
       "      <td>1684662069</td>\n",
       "      <td>dalek-v-enterprise-the-race-to-the-edge-of-space</td>\n",
       "      <td>The Starship Enterprise will race Vader's TIE ...</td>\n",
       "      <td>Space Exploration</td>\n",
       "      <td>21</td>\n",
       "      <td>242</td>\n",
       "      <td>GB</td>\n",
       "      <td>Stourbridge</td>\n",
       "      <td>England</td>\n",
       "      <td>2013-01-07</td>\n",
       "      <td>2013-02-02</td>\n",
       "      <td>2013-01-12</td>\n",
       "      <td>2013-02-02</td>\n",
       "      <td>43</td>\n",
       "      <td>1269</td>\n",
       "      <td>https://www.kickstarter.com/projects/261431757...</td>\n",
       "      <td>successful</td>\n",
       "    </tr>\n",
       "    <tr>\n",
       "      <th>26</th>\n",
       "      <td>556012389</td>\n",
       "      <td>1000-student-projects-to-the-edge-of-space</td>\n",
       "      <td>We're sending 1000 student projects to the edg...</td>\n",
       "      <td>Space Exploration</td>\n",
       "      <td>30</td>\n",
       "      <td>9000</td>\n",
       "      <td>US</td>\n",
       "      <td>Rancho Cordova</td>\n",
       "      <td>CA</td>\n",
       "      <td>2012-07-09</td>\n",
       "      <td>2012-08-16</td>\n",
       "      <td>2012-07-17</td>\n",
       "      <td>2012-08-16</td>\n",
       "      <td>457</td>\n",
       "      <td>12466</td>\n",
       "      <td>https://www.kickstarter.com/projects/156969817...</td>\n",
       "      <td>successful</td>\n",
       "    </tr>\n",
       "    <tr>\n",
       "      <th>27</th>\n",
       "      <td>1262190409</td>\n",
       "      <td>lunar-mission-one-a-new-lunar-mission-for-ever...</td>\n",
       "      <td>Lunar Mission One: the most inspirational miss...</td>\n",
       "      <td>Space Exploration</td>\n",
       "      <td>29</td>\n",
       "      <td>943206</td>\n",
       "      <td>GB</td>\n",
       "      <td>London</td>\n",
       "      <td>England</td>\n",
       "      <td>2014-11-05</td>\n",
       "      <td>2014-12-17</td>\n",
       "      <td>2014-11-18</td>\n",
       "      <td>2014-12-17</td>\n",
       "      <td>7297</td>\n",
       "      <td>1057094</td>\n",
       "      <td>https://www.kickstarter.com/projects/lunarmiss...</td>\n",
       "      <td>successful</td>\n",
       "    </tr>\n",
       "    <tr>\n",
       "      <th>28</th>\n",
       "      <td>303624357</td>\n",
       "      <td>plasma-jet-electric-thrusters-for-spacecraft</td>\n",
       "      <td>A prototype electric pulsed plasma jet thruste...</td>\n",
       "      <td>Space Exploration</td>\n",
       "      <td>30</td>\n",
       "      <td>69000</td>\n",
       "      <td>US</td>\n",
       "      <td>Chantilly</td>\n",
       "      <td>VA</td>\n",
       "      <td>2012-08-29</td>\n",
       "      <td>2012-11-03</td>\n",
       "      <td>2012-10-04</td>\n",
       "      <td>2012-11-03</td>\n",
       "      <td>1101</td>\n",
       "      <td>72871</td>\n",
       "      <td>https://www.kickstarter.com/projects/202707218...</td>\n",
       "      <td>successful</td>\n",
       "    </tr>\n",
       "    <tr>\n",
       "      <th>29</th>\n",
       "      <td>1267280032</td>\n",
       "      <td>launch-a-tardis-into-space</td>\n",
       "      <td>I'll be launching a small model TARDIS into (n...</td>\n",
       "      <td>Space Exploration</td>\n",
       "      <td>15</td>\n",
       "      <td>500</td>\n",
       "      <td>US</td>\n",
       "      <td>Sandusky</td>\n",
       "      <td>OH</td>\n",
       "      <td>2012-08-27</td>\n",
       "      <td>2012-09-13</td>\n",
       "      <td>2012-08-29</td>\n",
       "      <td>2012-09-13</td>\n",
       "      <td>151</td>\n",
       "      <td>3307</td>\n",
       "      <td>https://www.kickstarter.com/projects/whattravi...</td>\n",
       "      <td>successful</td>\n",
       "    </tr>\n",
       "    <tr>\n",
       "      <th>...</th>\n",
       "      <td>...</td>\n",
       "      <td>...</td>\n",
       "      <td>...</td>\n",
       "      <td>...</td>\n",
       "      <td>...</td>\n",
       "      <td>...</td>\n",
       "      <td>...</td>\n",
       "      <td>...</td>\n",
       "      <td>...</td>\n",
       "      <td>...</td>\n",
       "      <td>...</td>\n",
       "      <td>...</td>\n",
       "      <td>...</td>\n",
       "      <td>...</td>\n",
       "      <td>...</td>\n",
       "      <td>...</td>\n",
       "      <td>...</td>\n",
       "    </tr>\n",
       "    <tr>\n",
       "      <th>289521</th>\n",
       "      <td>576704652</td>\n",
       "      <td>brilliant-after-all-a-new-album-by-jennyrebecca</td>\n",
       "      <td>Help launch JennyRebecca's new album and tour ...</td>\n",
       "      <td>Music</td>\n",
       "      <td>23</td>\n",
       "      <td>20000</td>\n",
       "      <td>US</td>\n",
       "      <td>Redding</td>\n",
       "      <td>CA</td>\n",
       "      <td>2017-09-17</td>\n",
       "      <td>2017-10-11</td>\n",
       "      <td>2017-09-18</td>\n",
       "      <td>2017-10-11</td>\n",
       "      <td>180</td>\n",
       "      <td>20140</td>\n",
       "      <td>https://www.kickstarter.com/projects/800133413...</td>\n",
       "      <td>successful</td>\n",
       "    </tr>\n",
       "    <tr>\n",
       "      <th>289522</th>\n",
       "      <td>1428078570</td>\n",
       "      <td>maahikeee-and-friends-showcase</td>\n",
       "      <td>Help me fund a showcase that will highlight my...</td>\n",
       "      <td>Music</td>\n",
       "      <td>28</td>\n",
       "      <td>2500</td>\n",
       "      <td>US</td>\n",
       "      <td>Columbus</td>\n",
       "      <td>OH</td>\n",
       "      <td>2017-09-18</td>\n",
       "      <td>2017-10-16</td>\n",
       "      <td>2017-09-18</td>\n",
       "      <td>2017-10-16</td>\n",
       "      <td>70</td>\n",
       "      <td>2680</td>\n",
       "      <td>https://www.kickstarter.com/projects/304665417...</td>\n",
       "      <td>successful</td>\n",
       "    </tr>\n",
       "    <tr>\n",
       "      <th>289523</th>\n",
       "      <td>1436400772</td>\n",
       "      <td>tumaini-festival-2017-at-dzaleka-refugee-camp</td>\n",
       "      <td>Tumaini Festival is a cultural music event, de...</td>\n",
       "      <td>Music</td>\n",
       "      <td>21</td>\n",
       "      <td>9556</td>\n",
       "      <td>DE</td>\n",
       "      <td>Dowa</td>\n",
       "      <td>Dowa</td>\n",
       "      <td>2017-08-31</td>\n",
       "      <td>2017-10-09</td>\n",
       "      <td>2017-09-18</td>\n",
       "      <td>2017-10-09</td>\n",
       "      <td>230</td>\n",
       "      <td>9945</td>\n",
       "      <td>https://www.kickstarter.com/projects/28211758/...</td>\n",
       "      <td>successful</td>\n",
       "    </tr>\n",
       "    <tr>\n",
       "      <th>289524</th>\n",
       "      <td>1354863425</td>\n",
       "      <td>pre-order-jason-wickens-debut-album</td>\n",
       "      <td>I'm headed down to Norman, OK to record with G...</td>\n",
       "      <td>Music</td>\n",
       "      <td>24</td>\n",
       "      <td>5000</td>\n",
       "      <td>US</td>\n",
       "      <td>Bozeman</td>\n",
       "      <td>MT</td>\n",
       "      <td>2017-04-26</td>\n",
       "      <td>2017-05-23</td>\n",
       "      <td>2017-04-29</td>\n",
       "      <td>2017-05-23</td>\n",
       "      <td>99</td>\n",
       "      <td>7177</td>\n",
       "      <td>https://www.kickstarter.com/projects/jasonwick...</td>\n",
       "      <td>successful</td>\n",
       "    </tr>\n",
       "    <tr>\n",
       "      <th>289525</th>\n",
       "      <td>941380253</td>\n",
       "      <td>alexander-james-adams-on-vinyl</td>\n",
       "      <td>Alexander James Adams and Canticles releases t...</td>\n",
       "      <td>Music</td>\n",
       "      <td>30</td>\n",
       "      <td>3000</td>\n",
       "      <td>US</td>\n",
       "      <td>Pasadena</td>\n",
       "      <td>CA</td>\n",
       "      <td>2017-04-23</td>\n",
       "      <td>2017-05-29</td>\n",
       "      <td>2017-04-29</td>\n",
       "      <td>2017-05-29</td>\n",
       "      <td>44</td>\n",
       "      <td>3467</td>\n",
       "      <td>https://www.kickstarter.com/projects/151899854...</td>\n",
       "      <td>successful</td>\n",
       "    </tr>\n",
       "    <tr>\n",
       "      <th>289526</th>\n",
       "      <td>596544902</td>\n",
       "      <td>nathan-colberg-debut-full-length-album</td>\n",
       "      <td>Help fund the creation of my first ever full l...</td>\n",
       "      <td>Music</td>\n",
       "      <td>18</td>\n",
       "      <td>17000</td>\n",
       "      <td>US</td>\n",
       "      <td>Charlottesville</td>\n",
       "      <td>VA</td>\n",
       "      <td>2017-04-24</td>\n",
       "      <td>2017-05-16</td>\n",
       "      <td>2017-04-28</td>\n",
       "      <td>2017-05-16</td>\n",
       "      <td>258</td>\n",
       "      <td>18601</td>\n",
       "      <td>https://www.kickstarter.com/projects/172001679...</td>\n",
       "      <td>successful</td>\n",
       "    </tr>\n",
       "    <tr>\n",
       "      <th>289527</th>\n",
       "      <td>2089451279</td>\n",
       "      <td>support-donnie-blows-trip-to-the-core-djs-retreat</td>\n",
       "      <td>The Core DJ's Retreat 27 Worldwide Showcase, L...</td>\n",
       "      <td>Music</td>\n",
       "      <td>16</td>\n",
       "      <td>1100</td>\n",
       "      <td>US</td>\n",
       "      <td>Los Angeles</td>\n",
       "      <td>CA</td>\n",
       "      <td>2017-03-25</td>\n",
       "      <td>2017-05-13</td>\n",
       "      <td>2017-04-27</td>\n",
       "      <td>2017-05-13</td>\n",
       "      <td>20</td>\n",
       "      <td>1110</td>\n",
       "      <td>https://www.kickstarter.com/projects/donnieblo...</td>\n",
       "      <td>successful</td>\n",
       "    </tr>\n",
       "    <tr>\n",
       "      <th>289528</th>\n",
       "      <td>170042970</td>\n",
       "      <td>trolley-stoppers-make-their-first-cd</td>\n",
       "      <td>Hey, Trolley Stopper fans, our CD is ready to ...</td>\n",
       "      <td>Music</td>\n",
       "      <td>30</td>\n",
       "      <td>1500</td>\n",
       "      <td>US</td>\n",
       "      <td>Philadelphia</td>\n",
       "      <td>PA</td>\n",
       "      <td>2016-10-03</td>\n",
       "      <td>2017-05-27</td>\n",
       "      <td>2017-04-27</td>\n",
       "      <td>2017-05-27</td>\n",
       "      <td>26</td>\n",
       "      <td>1685</td>\n",
       "      <td>https://www.kickstarter.com/projects/897974241...</td>\n",
       "      <td>successful</td>\n",
       "    </tr>\n",
       "    <tr>\n",
       "      <th>289529</th>\n",
       "      <td>224622838</td>\n",
       "      <td>dougs-album-life-after-death</td>\n",
       "      <td>An album of songs written after my Dad died - ...</td>\n",
       "      <td>Music</td>\n",
       "      <td>34</td>\n",
       "      <td>1283</td>\n",
       "      <td>GB</td>\n",
       "      <td>Glasgow</td>\n",
       "      <td>Scotland</td>\n",
       "      <td>2017-04-15</td>\n",
       "      <td>2017-05-31</td>\n",
       "      <td>2017-04-27</td>\n",
       "      <td>2017-05-31</td>\n",
       "      <td>65</td>\n",
       "      <td>1585</td>\n",
       "      <td>https://www.kickstarter.com/projects/771919459...</td>\n",
       "      <td>successful</td>\n",
       "    </tr>\n",
       "    <tr>\n",
       "      <th>289530</th>\n",
       "      <td>1533330386</td>\n",
       "      <td>leogun-record-new-ep</td>\n",
       "      <td>We are recording a new EP and we need your hel...</td>\n",
       "      <td>Music</td>\n",
       "      <td>40</td>\n",
       "      <td>3209</td>\n",
       "      <td>GB</td>\n",
       "      <td>London</td>\n",
       "      <td>England</td>\n",
       "      <td>2017-03-02</td>\n",
       "      <td>2017-06-06</td>\n",
       "      <td>2017-04-27</td>\n",
       "      <td>2017-06-06</td>\n",
       "      <td>42</td>\n",
       "      <td>3323</td>\n",
       "      <td>https://www.kickstarter.com/projects/121872425...</td>\n",
       "      <td>successful</td>\n",
       "    </tr>\n",
       "    <tr>\n",
       "      <th>289531</th>\n",
       "      <td>887053191</td>\n",
       "      <td>nikki-leonti-ep</td>\n",
       "      <td>Let's make a record! I'm hoping to meet this i...</td>\n",
       "      <td>Music</td>\n",
       "      <td>30</td>\n",
       "      <td>10000</td>\n",
       "      <td>US</td>\n",
       "      <td>Los Angeles</td>\n",
       "      <td>CA</td>\n",
       "      <td>2017-04-26</td>\n",
       "      <td>2017-05-26</td>\n",
       "      <td>2017-04-26</td>\n",
       "      <td>2017-05-26</td>\n",
       "      <td>326</td>\n",
       "      <td>17836</td>\n",
       "      <td>https://www.kickstarter.com/projects/144326575...</td>\n",
       "      <td>successful</td>\n",
       "    </tr>\n",
       "    <tr>\n",
       "      <th>289532</th>\n",
       "      <td>194836812</td>\n",
       "      <td>sam-pace-and-the-gilded-grit-new-album</td>\n",
       "      <td>We are right in the middle of recording our am...</td>\n",
       "      <td>Music</td>\n",
       "      <td>32</td>\n",
       "      <td>15000</td>\n",
       "      <td>US</td>\n",
       "      <td>Austin</td>\n",
       "      <td>TX</td>\n",
       "      <td>2017-01-04</td>\n",
       "      <td>2017-06-12</td>\n",
       "      <td>2017-05-11</td>\n",
       "      <td>2017-06-12</td>\n",
       "      <td>206</td>\n",
       "      <td>15221</td>\n",
       "      <td>https://www.kickstarter.com/projects/812411887...</td>\n",
       "      <td>successful</td>\n",
       "    </tr>\n",
       "    <tr>\n",
       "      <th>289533</th>\n",
       "      <td>1387127309</td>\n",
       "      <td>derby-panther-marching-band-disappear</td>\n",
       "      <td>Our 2017 marching show will be DisAppear. We a...</td>\n",
       "      <td>Music</td>\n",
       "      <td>15</td>\n",
       "      <td>3000</td>\n",
       "      <td>US</td>\n",
       "      <td>Derby</td>\n",
       "      <td>KS</td>\n",
       "      <td>2017-05-09</td>\n",
       "      <td>2017-05-26</td>\n",
       "      <td>2017-05-11</td>\n",
       "      <td>2017-05-26</td>\n",
       "      <td>40</td>\n",
       "      <td>3075</td>\n",
       "      <td>https://www.kickstarter.com/projects/207362965...</td>\n",
       "      <td>successful</td>\n",
       "    </tr>\n",
       "    <tr>\n",
       "      <th>289534</th>\n",
       "      <td>74923807</td>\n",
       "      <td>for-freedom-das-hund-debut-album</td>\n",
       "      <td>Das Hund are recording their debut album -  Fo...</td>\n",
       "      <td>Music</td>\n",
       "      <td>30</td>\n",
       "      <td>2590</td>\n",
       "      <td>GB</td>\n",
       "      <td>London</td>\n",
       "      <td>England</td>\n",
       "      <td>2017-03-28</td>\n",
       "      <td>2017-06-09</td>\n",
       "      <td>2017-05-10</td>\n",
       "      <td>2017-06-09</td>\n",
       "      <td>62</td>\n",
       "      <td>3209</td>\n",
       "      <td>https://www.kickstarter.com/projects/das-hund/...</td>\n",
       "      <td>successful</td>\n",
       "    </tr>\n",
       "    <tr>\n",
       "      <th>289535</th>\n",
       "      <td>2145782449</td>\n",
       "      <td>a-female-rideshare-drivers-tales-the-peopleand...</td>\n",
       "      <td>I am an Uber and Lyft Rideshare driver who wri...</td>\n",
       "      <td>Journalism</td>\n",
       "      <td>30</td>\n",
       "      <td>400</td>\n",
       "      <td>US</td>\n",
       "      <td>Tampa</td>\n",
       "      <td>FL</td>\n",
       "      <td>2015-09-24</td>\n",
       "      <td>2015-11-04</td>\n",
       "      <td>2015-10-05</td>\n",
       "      <td>2015-11-04</td>\n",
       "      <td>3</td>\n",
       "      <td>11</td>\n",
       "      <td>https://www.kickstarter.com/projects/526194009...</td>\n",
       "      <td>failed</td>\n",
       "    </tr>\n",
       "    <tr>\n",
       "      <th>289536</th>\n",
       "      <td>347223099</td>\n",
       "      <td>foreverspintm-world-famous-spinning-tops</td>\n",
       "      <td>Every spinning top — is built on the same beli...</td>\n",
       "      <td>Product Design</td>\n",
       "      <td>36</td>\n",
       "      <td>7293</td>\n",
       "      <td>CA</td>\n",
       "      <td>Toronto</td>\n",
       "      <td>ON</td>\n",
       "      <td>2015-11-22</td>\n",
       "      <td>2016-01-21</td>\n",
       "      <td>2015-12-16</td>\n",
       "      <td>2016-01-21</td>\n",
       "      <td>4870</td>\n",
       "      <td>537049</td>\n",
       "      <td>https://www.kickstarter.com/projects/125137185...</td>\n",
       "      <td>successful</td>\n",
       "    </tr>\n",
       "    <tr>\n",
       "      <th>289537</th>\n",
       "      <td>755515960</td>\n",
       "      <td>wart-a-cosmic-horror-comic</td>\n",
       "      <td>WART - The Comic. Books One and Two of the Lov...</td>\n",
       "      <td>Comic Books</td>\n",
       "      <td>38</td>\n",
       "      <td>2351</td>\n",
       "      <td>GB</td>\n",
       "      <td>Liverpool</td>\n",
       "      <td>England</td>\n",
       "      <td>2014-11-20</td>\n",
       "      <td>2015-01-12</td>\n",
       "      <td>2014-12-05</td>\n",
       "      <td>2015-01-12</td>\n",
       "      <td>121</td>\n",
       "      <td>3907</td>\n",
       "      <td>https://www.kickstarter.com/projects/192982297...</td>\n",
       "      <td>successful</td>\n",
       "    </tr>\n",
       "    <tr>\n",
       "      <th>289538</th>\n",
       "      <td>477565154</td>\n",
       "      <td>toro</td>\n",
       "      <td>TORO es un falso documental sobre un niño de l...</td>\n",
       "      <td>Film &amp; Video</td>\n",
       "      <td>30</td>\n",
       "      <td>1858</td>\n",
       "      <td>MX</td>\n",
       "      <td>Mexico City</td>\n",
       "      <td>Distrito Federal</td>\n",
       "      <td>2018-08-09</td>\n",
       "      <td>2018-09-23</td>\n",
       "      <td>2018-08-24</td>\n",
       "      <td>2018-09-23</td>\n",
       "      <td>33</td>\n",
       "      <td>2088</td>\n",
       "      <td>https://www.kickstarter.com/projects/143374369...</td>\n",
       "      <td>successful</td>\n",
       "    </tr>\n",
       "    <tr>\n",
       "      <th>289539</th>\n",
       "      <td>2144124531</td>\n",
       "      <td>the-hanged-man-a-short-film</td>\n",
       "      <td>A troubled man has an encounter with a mysteri...</td>\n",
       "      <td>Fantasy</td>\n",
       "      <td>30</td>\n",
       "      <td>7923</td>\n",
       "      <td>GB</td>\n",
       "      <td>London</td>\n",
       "      <td>England</td>\n",
       "      <td>2018-06-28</td>\n",
       "      <td>2018-07-31</td>\n",
       "      <td>2018-07-01</td>\n",
       "      <td>2018-07-31</td>\n",
       "      <td>79</td>\n",
       "      <td>8685</td>\n",
       "      <td>https://www.kickstarter.com/projects/879820650...</td>\n",
       "      <td>successful</td>\n",
       "    </tr>\n",
       "    <tr>\n",
       "      <th>289540</th>\n",
       "      <td>469583185</td>\n",
       "      <td>illuminated-icons</td>\n",
       "      <td>Dragons, Doves, Devils, Dogs &amp; Drolleries! A s...</td>\n",
       "      <td>Accessories</td>\n",
       "      <td>36</td>\n",
       "      <td>2102</td>\n",
       "      <td>AU</td>\n",
       "      <td>Melbourne</td>\n",
       "      <td>VIC</td>\n",
       "      <td>2019-02-22</td>\n",
       "      <td>2019-04-14</td>\n",
       "      <td>2019-03-09</td>\n",
       "      <td>2019-04-14</td>\n",
       "      <td>201</td>\n",
       "      <td>6971</td>\n",
       "      <td>https://www.kickstarter.com/projects/georgemun...</td>\n",
       "      <td>successful</td>\n",
       "    </tr>\n",
       "    <tr>\n",
       "      <th>289541</th>\n",
       "      <td>482434904</td>\n",
       "      <td>gilbert-the-gravedigger-brown-calendar-series-...</td>\n",
       "      <td>Enjoy a unique experience into Gilbert Brown's...</td>\n",
       "      <td>Calendars</td>\n",
       "      <td>30</td>\n",
       "      <td>1000</td>\n",
       "      <td>US</td>\n",
       "      <td>Green Bay</td>\n",
       "      <td>WI</td>\n",
       "      <td>2017-12-13</td>\n",
       "      <td>2018-01-13</td>\n",
       "      <td>2017-12-14</td>\n",
       "      <td>2018-01-13</td>\n",
       "      <td>0</td>\n",
       "      <td>0</td>\n",
       "      <td>https://www.kickstarter.com/projects/194949417...</td>\n",
       "      <td>failed</td>\n",
       "    </tr>\n",
       "    <tr>\n",
       "      <th>289542</th>\n",
       "      <td>150653025</td>\n",
       "      <td>native-soil-sarah-yusters-staten-island-homesc...</td>\n",
       "      <td>Native Soil  is a limited edition hard cover a...</td>\n",
       "      <td>Art Books</td>\n",
       "      <td>30</td>\n",
       "      <td>5000</td>\n",
       "      <td>US</td>\n",
       "      <td>Staten Island</td>\n",
       "      <td>NY</td>\n",
       "      <td>2017-12-22</td>\n",
       "      <td>2018-02-11</td>\n",
       "      <td>2018-01-12</td>\n",
       "      <td>2018-02-11</td>\n",
       "      <td>117</td>\n",
       "      <td>7762</td>\n",
       "      <td>https://www.kickstarter.com/projects/142291902...</td>\n",
       "      <td>successful</td>\n",
       "    </tr>\n",
       "    <tr>\n",
       "      <th>289543</th>\n",
       "      <td>404860039</td>\n",
       "      <td>art-book-and-limited-edition-pin-make-100</td>\n",
       "      <td>A book of whimsical art &amp; sketches from a year...</td>\n",
       "      <td>Art Books</td>\n",
       "      <td>20</td>\n",
       "      <td>700</td>\n",
       "      <td>US</td>\n",
       "      <td>Oakland</td>\n",
       "      <td>CA</td>\n",
       "      <td>2017-12-19</td>\n",
       "      <td>2018-02-11</td>\n",
       "      <td>2018-01-22</td>\n",
       "      <td>2018-02-11</td>\n",
       "      <td>263</td>\n",
       "      <td>12579</td>\n",
       "      <td>https://www.kickstarter.com/projects/naomiv/ar...</td>\n",
       "      <td>successful</td>\n",
       "    </tr>\n",
       "    <tr>\n",
       "      <th>289544</th>\n",
       "      <td>1756476946</td>\n",
       "      <td>studio-ghibli-totoro-keychain-stickers-and-sketch</td>\n",
       "      <td>I am hoping to make a product set based on Tot...</td>\n",
       "      <td>Digital Art</td>\n",
       "      <td>20</td>\n",
       "      <td>152</td>\n",
       "      <td>GB</td>\n",
       "      <td>London</td>\n",
       "      <td>England</td>\n",
       "      <td>2018-12-04</td>\n",
       "      <td>2018-12-26</td>\n",
       "      <td>2018-12-06</td>\n",
       "      <td>2018-12-26</td>\n",
       "      <td>13</td>\n",
       "      <td>266</td>\n",
       "      <td>https://www.kickstarter.com/projects/tomiartsh...</td>\n",
       "      <td>successful</td>\n",
       "    </tr>\n",
       "    <tr>\n",
       "      <th>289545</th>\n",
       "      <td>1478910327</td>\n",
       "      <td>warriors-inspired-thunderclan-symbol-enamel-pin</td>\n",
       "      <td>Enamel Pins</td>\n",
       "      <td>Art</td>\n",
       "      <td>29</td>\n",
       "      <td>326</td>\n",
       "      <td>GB</td>\n",
       "      <td>London</td>\n",
       "      <td>England</td>\n",
       "      <td>2019-04-02</td>\n",
       "      <td>2019-05-08</td>\n",
       "      <td>2019-04-09</td>\n",
       "      <td>2019-05-08</td>\n",
       "      <td>45</td>\n",
       "      <td>940</td>\n",
       "      <td>https://www.kickstarter.com/projects/irisidium...</td>\n",
       "      <td>successful</td>\n",
       "    </tr>\n",
       "    <tr>\n",
       "      <th>289546</th>\n",
       "      <td>1653241952</td>\n",
       "      <td>study-woodworking-in-japan</td>\n",
       "      <td>An international craft school in Kyoto, Japan,...</td>\n",
       "      <td>Woodworking</td>\n",
       "      <td>28</td>\n",
       "      <td>28142</td>\n",
       "      <td>JP</td>\n",
       "      <td>Kyoto-shi</td>\n",
       "      <td>Kyoto Prefecture</td>\n",
       "      <td>2018-02-07</td>\n",
       "      <td>2018-03-16</td>\n",
       "      <td>2018-02-16</td>\n",
       "      <td>2018-03-16</td>\n",
       "      <td>221</td>\n",
       "      <td>33597</td>\n",
       "      <td>https://www.kickstarter.com/projects/191143809...</td>\n",
       "      <td>successful</td>\n",
       "    </tr>\n",
       "    <tr>\n",
       "      <th>289547</th>\n",
       "      <td>1578019152</td>\n",
       "      <td>ark-labs-affordable-smart-water-monitoring-system</td>\n",
       "      <td>Water monitoring device with remote shutoff, p...</td>\n",
       "      <td>Hardware</td>\n",
       "      <td>30</td>\n",
       "      <td>60000</td>\n",
       "      <td>US</td>\n",
       "      <td>Muscle Shoals</td>\n",
       "      <td>AL</td>\n",
       "      <td>2015-12-02</td>\n",
       "      <td>2016-02-27</td>\n",
       "      <td>2016-01-28</td>\n",
       "      <td>2016-02-27</td>\n",
       "      <td>76</td>\n",
       "      <td>60912</td>\n",
       "      <td>https://www.kickstarter.com/projects/129283637...</td>\n",
       "      <td>successful</td>\n",
       "    </tr>\n",
       "    <tr>\n",
       "      <th>289548</th>\n",
       "      <td>406282894</td>\n",
       "      <td>the-kadi-port-a-macbook-essential</td>\n",
       "      <td>The Macbook's most needed partner, designed pu...</td>\n",
       "      <td>Hardware</td>\n",
       "      <td>35</td>\n",
       "      <td>11967</td>\n",
       "      <td>AU</td>\n",
       "      <td>Melbourne</td>\n",
       "      <td>VIC</td>\n",
       "      <td>2015-04-27</td>\n",
       "      <td>2015-06-24</td>\n",
       "      <td>2015-05-20</td>\n",
       "      <td>2015-06-24</td>\n",
       "      <td>465</td>\n",
       "      <td>15921</td>\n",
       "      <td>https://www.kickstarter.com/projects/thekadipo...</td>\n",
       "      <td>successful</td>\n",
       "    </tr>\n",
       "    <tr>\n",
       "      <th>289549</th>\n",
       "      <td>1459074093</td>\n",
       "      <td>goldie-men-underwear-with-pockets</td>\n",
       "      <td>Mens Briefs With Sleeve Style Pockets For Spor...</td>\n",
       "      <td>Apparel</td>\n",
       "      <td>26</td>\n",
       "      <td>2326</td>\n",
       "      <td>AU</td>\n",
       "      <td>Brisbane</td>\n",
       "      <td>QLD</td>\n",
       "      <td>2015-11-03</td>\n",
       "      <td>2015-12-28</td>\n",
       "      <td>2015-12-02</td>\n",
       "      <td>2015-12-28</td>\n",
       "      <td>90</td>\n",
       "      <td>2825</td>\n",
       "      <td>https://www.kickstarter.com/projects/190238509...</td>\n",
       "      <td>successful</td>\n",
       "    </tr>\n",
       "    <tr>\n",
       "      <th>289550</th>\n",
       "      <td>1371544758</td>\n",
       "      <td>find-tomorrow</td>\n",
       "      <td>Open world multiplayer apocalypse shooter simi...</td>\n",
       "      <td>Video Games</td>\n",
       "      <td>29</td>\n",
       "      <td>10087</td>\n",
       "      <td>NL</td>\n",
       "      <td>Nederland</td>\n",
       "      <td>Overyssel</td>\n",
       "      <td>2016-06-01</td>\n",
       "      <td>2016-07-02</td>\n",
       "      <td>2016-06-03</td>\n",
       "      <td>2016-07-02</td>\n",
       "      <td>3</td>\n",
       "      <td>13</td>\n",
       "      <td>https://www.kickstarter.com/projects/615215515...</td>\n",
       "      <td>failed</td>\n",
       "    </tr>\n",
       "  </tbody>\n",
       "</table>\n",
       "<p>289551 rows × 17 columns</p>\n",
       "</div>"
      ],
      "text/plain": [
       "                id                                       campaignName  \\\n",
       "0       1123889576                     mars-on-earth-an-art-residency   \n",
       "1       1724173143       vulcan-i-rocket-powered-by-3d-printed-engine   \n",
       "2        707260502  starscraper-the-next-generation-of-suborbital-...   \n",
       "3        497637964  students-building-a-near-space-balloon-with-li...   \n",
       "4       1546008758                                          earth-360   \n",
       "...            ...                                                ...   \n",
       "289546  1653241952                         study-woodworking-in-japan   \n",
       "289547  1578019152  ark-labs-affordable-smart-water-monitoring-system   \n",
       "289548   406282894                  the-kadi-port-a-macbook-essential   \n",
       "289549  1459074093                  goldie-men-underwear-with-pockets   \n",
       "289550  1371544758                                      find-tomorrow   \n",
       "\n",
       "                                              description         categories  \\\n",
       "0       Help a fine art photographer continue her proj...  Space Exploration   \n",
       "1       Team of undergraduates racing to be the first ...  Space Exploration   \n",
       "2       What if we built a rocket that is better than ...  Space Exploration   \n",
       "3       A group of high school students are building a...  Space Exploration   \n",
       "4       Re-inventing the way we look at our planet by ...  Space Exploration   \n",
       "...                                                   ...                ...   \n",
       "289546  An international craft school in Kyoto, Japan,...        Woodworking   \n",
       "289547  Water monitoring device with remote shutoff, p...           Hardware   \n",
       "289548  The Macbook's most needed partner, designed pu...           Hardware   \n",
       "289549  Mens Briefs With Sleeve Style Pockets For Spor...            Apparel   \n",
       "289550  Open world multiplayer apocalypse shooter simi...        Video Games   \n",
       "\n",
       "        duration  monetaryGoal country           city             state  \\\n",
       "0             27          1000      US         Boston                MA   \n",
       "1             30         15000      US      San Diego                CA   \n",
       "2             31         10000      US         Boston                MA   \n",
       "3             30           150      US  Mountain View                CA   \n",
       "4             30          7500      US      Fairfield                CT   \n",
       "...          ...           ...     ...            ...               ...   \n",
       "289546        28         28142      JP      Kyoto-shi  Kyoto Prefecture   \n",
       "289547        30         60000      US  Muscle Shoals                AL   \n",
       "289548        35         11967      AU      Melbourne               VIC   \n",
       "289549        26          2326      AU       Brisbane               QLD   \n",
       "289550        29         10087      NL      Nederland         Overyssel   \n",
       "\n",
       "       date_created deadline_date launched_date state_changed_at  \\\n",
       "0        2015-06-24    2015-10-23    2015-09-26       2015-10-23   \n",
       "1        2014-05-06    2015-05-21    2015-04-21       2015-05-21   \n",
       "2        2014-11-29    2015-01-09    2014-12-09       2015-01-09   \n",
       "3        2014-11-19    2015-11-26    2015-10-27       2015-11-26   \n",
       "4        2012-04-11    2012-09-21    2012-08-22       2012-09-21   \n",
       "...             ...           ...           ...              ...   \n",
       "289546   2018-02-07    2018-03-16    2018-02-16       2018-03-16   \n",
       "289547   2015-12-02    2016-02-27    2016-01-28       2016-02-27   \n",
       "289548   2015-04-27    2015-06-24    2015-05-20       2015-06-24   \n",
       "289549   2015-11-03    2015-12-28    2015-12-02       2015-12-28   \n",
       "289550   2016-06-01    2016-07-02    2016-06-03       2016-07-02   \n",
       "\n",
       "        backers_count  usd_pledged  \\\n",
       "0                  53         1884   \n",
       "1                 465        21882   \n",
       "2                 294        17176   \n",
       "3                  45          970   \n",
       "4                  28         7576   \n",
       "...               ...          ...   \n",
       "289546            221        33597   \n",
       "289547             76        60912   \n",
       "289548            465        15921   \n",
       "289549             90         2825   \n",
       "289550              3           13   \n",
       "\n",
       "                                                      url      target  \n",
       "0       https://www.kickstarter.com/projects/cassandra...  successful  \n",
       "1       https://www.kickstarter.com/projects/105499101...  successful  \n",
       "2       https://www.kickstarter.com/projects/burpg/sta...  successful  \n",
       "3       https://www.kickstarter.com/projects/136362214...  successful  \n",
       "4       https://www.kickstarter.com/projects/211370922...  successful  \n",
       "...                                                   ...         ...  \n",
       "289546  https://www.kickstarter.com/projects/191143809...  successful  \n",
       "289547  https://www.kickstarter.com/projects/129283637...  successful  \n",
       "289548  https://www.kickstarter.com/projects/thekadipo...  successful  \n",
       "289549  https://www.kickstarter.com/projects/190238509...  successful  \n",
       "289550  https://www.kickstarter.com/projects/615215515...      failed  \n",
       "\n",
       "[289551 rows x 17 columns]"
      ]
     },
     "execution_count": 10,
     "metadata": {},
     "output_type": "execute_result"
    }
   ],
   "source": [
    "df = pd.read_csv('df_small.csv')\n",
    "df"
   ]
  },
  {
   "cell_type": "code",
   "execution_count": 14,
   "metadata": {},
   "outputs": [
    {
     "data": {
      "text/html": [
       "<div>\n",
       "<style scoped>\n",
       "    .dataframe tbody tr th:only-of-type {\n",
       "        vertical-align: middle;\n",
       "    }\n",
       "\n",
       "    .dataframe tbody tr th {\n",
       "        vertical-align: top;\n",
       "    }\n",
       "\n",
       "    .dataframe thead th {\n",
       "        text-align: right;\n",
       "    }\n",
       "</style>\n",
       "<table border=\"1\" class=\"dataframe\">\n",
       "  <thead>\n",
       "    <tr style=\"text-align: right;\">\n",
       "      <th></th>\n",
       "      <th>id</th>\n",
       "      <th>campaignName</th>\n",
       "      <th>description</th>\n",
       "      <th>categories</th>\n",
       "      <th>duration</th>\n",
       "      <th>monetaryGoal</th>\n",
       "      <th>country</th>\n",
       "      <th>city</th>\n",
       "      <th>state</th>\n",
       "      <th>date_created</th>\n",
       "      <th>deadline_date</th>\n",
       "      <th>launched_date</th>\n",
       "      <th>state_changed_at</th>\n",
       "      <th>backers_count</th>\n",
       "      <th>usd_pledged</th>\n",
       "      <th>url</th>\n",
       "      <th>target</th>\n",
       "    </tr>\n",
       "  </thead>\n",
       "  <tbody>\n",
       "    <tr>\n",
       "      <th>0</th>\n",
       "      <td>1123889576</td>\n",
       "      <td>mars-on-earth-an-art-residency</td>\n",
       "      <td>Help a fine art photographer continue her proj...</td>\n",
       "      <td>0</td>\n",
       "      <td>27</td>\n",
       "      <td>1000</td>\n",
       "      <td>US</td>\n",
       "      <td>Boston</td>\n",
       "      <td>MA</td>\n",
       "      <td>2015-06-24</td>\n",
       "      <td>2015-10-23</td>\n",
       "      <td>2015-09-26</td>\n",
       "      <td>2015-10-23</td>\n",
       "      <td>53</td>\n",
       "      <td>1884</td>\n",
       "      <td>https://www.kickstarter.com/projects/cassandra...</td>\n",
       "      <td>successful</td>\n",
       "    </tr>\n",
       "    <tr>\n",
       "      <th>1</th>\n",
       "      <td>1724173143</td>\n",
       "      <td>vulcan-i-rocket-powered-by-3d-printed-engine</td>\n",
       "      <td>Team of undergraduates racing to be the first ...</td>\n",
       "      <td>0</td>\n",
       "      <td>30</td>\n",
       "      <td>15000</td>\n",
       "      <td>US</td>\n",
       "      <td>San Diego</td>\n",
       "      <td>CA</td>\n",
       "      <td>2014-05-06</td>\n",
       "      <td>2015-05-21</td>\n",
       "      <td>2015-04-21</td>\n",
       "      <td>2015-05-21</td>\n",
       "      <td>465</td>\n",
       "      <td>21882</td>\n",
       "      <td>https://www.kickstarter.com/projects/105499101...</td>\n",
       "      <td>successful</td>\n",
       "    </tr>\n",
       "    <tr>\n",
       "      <th>2</th>\n",
       "      <td>707260502</td>\n",
       "      <td>starscraper-the-next-generation-of-suborbital-...</td>\n",
       "      <td>What if we built a rocket that is better than ...</td>\n",
       "      <td>0</td>\n",
       "      <td>31</td>\n",
       "      <td>10000</td>\n",
       "      <td>US</td>\n",
       "      <td>Boston</td>\n",
       "      <td>MA</td>\n",
       "      <td>2014-11-29</td>\n",
       "      <td>2015-01-09</td>\n",
       "      <td>2014-12-09</td>\n",
       "      <td>2015-01-09</td>\n",
       "      <td>294</td>\n",
       "      <td>17176</td>\n",
       "      <td>https://www.kickstarter.com/projects/burpg/sta...</td>\n",
       "      <td>successful</td>\n",
       "    </tr>\n",
       "    <tr>\n",
       "      <th>3</th>\n",
       "      <td>497637964</td>\n",
       "      <td>students-building-a-near-space-balloon-with-li...</td>\n",
       "      <td>A group of high school students are building a...</td>\n",
       "      <td>0</td>\n",
       "      <td>30</td>\n",
       "      <td>150</td>\n",
       "      <td>US</td>\n",
       "      <td>Mountain View</td>\n",
       "      <td>CA</td>\n",
       "      <td>2014-11-19</td>\n",
       "      <td>2015-11-26</td>\n",
       "      <td>2015-10-27</td>\n",
       "      <td>2015-11-26</td>\n",
       "      <td>45</td>\n",
       "      <td>970</td>\n",
       "      <td>https://www.kickstarter.com/projects/136362214...</td>\n",
       "      <td>successful</td>\n",
       "    </tr>\n",
       "    <tr>\n",
       "      <th>4</th>\n",
       "      <td>1546008758</td>\n",
       "      <td>earth-360</td>\n",
       "      <td>Re-inventing the way we look at our planet by ...</td>\n",
       "      <td>0</td>\n",
       "      <td>30</td>\n",
       "      <td>7500</td>\n",
       "      <td>US</td>\n",
       "      <td>Fairfield</td>\n",
       "      <td>CT</td>\n",
       "      <td>2012-04-11</td>\n",
       "      <td>2012-09-21</td>\n",
       "      <td>2012-08-22</td>\n",
       "      <td>2012-09-21</td>\n",
       "      <td>28</td>\n",
       "      <td>7576</td>\n",
       "      <td>https://www.kickstarter.com/projects/211370922...</td>\n",
       "      <td>successful</td>\n",
       "    </tr>\n",
       "  </tbody>\n",
       "</table>\n",
       "</div>"
      ],
      "text/plain": [
       "           id                                       campaignName  \\\n",
       "0  1123889576                     mars-on-earth-an-art-residency   \n",
       "1  1724173143       vulcan-i-rocket-powered-by-3d-printed-engine   \n",
       "2   707260502  starscraper-the-next-generation-of-suborbital-...   \n",
       "3   497637964  students-building-a-near-space-balloon-with-li...   \n",
       "4  1546008758                                          earth-360   \n",
       "\n",
       "                                         description  categories  duration  \\\n",
       "0  Help a fine art photographer continue her proj...           0        27   \n",
       "1  Team of undergraduates racing to be the first ...           0        30   \n",
       "2  What if we built a rocket that is better than ...           0        31   \n",
       "3  A group of high school students are building a...           0        30   \n",
       "4  Re-inventing the way we look at our planet by ...           0        30   \n",
       "\n",
       "   monetaryGoal country           city state date_created deadline_date  \\\n",
       "0          1000      US         Boston    MA   2015-06-24    2015-10-23   \n",
       "1         15000      US      San Diego    CA   2014-05-06    2015-05-21   \n",
       "2         10000      US         Boston    MA   2014-11-29    2015-01-09   \n",
       "3           150      US  Mountain View    CA   2014-11-19    2015-11-26   \n",
       "4          7500      US      Fairfield    CT   2012-04-11    2012-09-21   \n",
       "\n",
       "  launched_date state_changed_at  backers_count  usd_pledged  \\\n",
       "0    2015-09-26       2015-10-23             53         1884   \n",
       "1    2015-04-21       2015-05-21            465        21882   \n",
       "2    2014-12-09       2015-01-09            294        17176   \n",
       "3    2015-10-27       2015-11-26             45          970   \n",
       "4    2012-08-22       2012-09-21             28         7576   \n",
       "\n",
       "                                                 url      target  \n",
       "0  https://www.kickstarter.com/projects/cassandra...  successful  \n",
       "1  https://www.kickstarter.com/projects/105499101...  successful  \n",
       "2  https://www.kickstarter.com/projects/burpg/sta...  successful  \n",
       "3  https://www.kickstarter.com/projects/136362214...  successful  \n",
       "4  https://www.kickstarter.com/projects/211370922...  successful  "
      ]
     },
     "execution_count": 14,
     "metadata": {},
     "output_type": "execute_result"
    }
   ],
   "source": [
    "df['categories'].replace(categories, inplace=True)\n",
    "df.head()"
   ]
  },
  {
   "cell_type": "code",
   "execution_count": 17,
   "metadata": {},
   "outputs": [],
   "source": [
    "df['country'].replace(countries, inplace=True)"
   ]
  },
  {
   "cell_type": "code",
   "execution_count": 18,
   "metadata": {},
   "outputs": [
    {
     "data": {
      "text/plain": [
       "dtype('int64')"
      ]
     },
     "execution_count": 18,
     "metadata": {},
     "output_type": "execute_result"
    }
   ],
   "source": [
    "df.categories.nunique()\n",
    "df['monetaryGoal'].dtype"
   ]
  },
  {
   "cell_type": "code",
   "execution_count": null,
   "metadata": {},
   "outputs": [],
   "source": [
    "from sklearn.pipeline import make_pipeline\n",
    "from sklearn.model_selection import train_test_split\n",
    "\n",
    "pipeline = make_pipeline(\n",
    "    RandomForestClassifier(n_estimators=500, max_depth=6, random_state=42)\n",
    ")\n",
    "\n",
    "# pick features\n",
    "target = 'target'\n",
    "features = ['categories', 'duration'\n",
    "            , 'monetaryGoal', 'country']\n",
    "\n",
    "# train/test split\n",
    "X_train, X_test, y_train, y_test = train_test_split(df[features], df[target], test_size=0.2, random_state=22)\n",
    "\n",
    "X_train.shape, X_test.shape, y_train.shape, y_test.shape\n",
    "\n",
    "pipeline.fit(X_train, y_train)"
   ]
  },
  {
   "cell_type": "code",
   "execution_count": 27,
   "metadata": {},
   "outputs": [
    {
     "data": {
      "text/plain": [
       "0    100000\n",
       "Name: monetaryGoal, dtype: object"
      ]
     },
     "execution_count": 27,
     "metadata": {},
     "output_type": "execute_result"
    }
   ],
   "source": [
    "data_df['monetaryGoal'] = (data_df['monetaryGoal'][0])\n",
    "data_df['monetaryGoal'].astype('int64')\n",
    "data_df['monetaryGoal']"
   ]
  },
  {
   "cell_type": "code",
   "execution_count": 24,
   "metadata": {},
   "outputs": [
    {
     "data": {
      "text/plain": [
       "array([0], dtype=int64)"
      ]
     },
     "execution_count": 24,
     "metadata": {},
     "output_type": "execute_result"
    }
   ],
   "source": [
    "# If user input contains anything the model doesn't\n",
    "drop_columns = ['campaignName', 'description', 'user_id']\n",
    "data_df.drop(columns = drop_columns, inplace=True)\n",
    "\n",
    "model_result = model.predict(data_df)\n",
    "model_result"
   ]
  },
  {
   "cell_type": "code",
   "execution_count": 29,
   "metadata": {},
   "outputs": [
    {
     "name": "stdout",
     "output_type": "stream",
     "text": [
      "[0]\n",
      "0\n",
      "0.3\n"
     ]
    },
    {
     "data": {
      "text/plain": [
       "'State is 30% likely to be successful'"
      ]
     },
     "execution_count": 29,
     "metadata": {},
     "output_type": "execute_result"
    }
   ],
   "source": [
    "test = {\n",
    "  \"campaignName\": \"test\",\n",
    "  \"description\": \"test\",\n",
    "  \"monetaryGoal\": \"100000\",\n",
    "  \"duration\": 35,\n",
    "  \"categories\":142,\n",
    "  \"country\": 3,\n",
    "  \"user_id\": 15\n",
    "}\n",
    "\n",
    "data = test\n",
    "\n",
    "# Change json to dataframe\n",
    "data.update((x, [y]) for x, y in data.items())\n",
    "data_df = pd.DataFrame.from_dict(data)\n",
    "\n",
    "drop_columns = ['campaignName', 'description', 'user_id']\n",
    "data_df.drop(columns = drop_columns, inplace=True)\n",
    "\n",
    "positive_class = 'successful'\n",
    "positive_class_index = 1 \n",
    "\n",
    "# Call model for prediction\n",
    "pred = model.predict(data_df)\n",
    "predict = pred[0]\n",
    "\n",
    "# Get predicted probability\n",
    "pred_proba = model.predict_proba(data_df)[0,positive_class_index]\n",
    "\n",
    "probability = pred_proba * 100\n",
    "# if pred != positive_class:\n",
    "#     probability = 100 - probability\n",
    "\n",
    "probability = round(probability)\n",
    "\n",
    "# Return prediction and probability\n",
    "output1 = f'State is {probability:.0f}% likely to be successful'\n",
    "\n",
    "print(pred)\n",
    "print(predict)\n",
    "print(pred_proba)\n",
    "\n",
    "output1"
   ]
  },
  {
   "cell_type": "code",
   "execution_count": 87,
   "metadata": {},
   "outputs": [
    {
     "data": {
      "application/vnd.plotly.v1+json": {
       "config": {
        "plotlyServerURL": "https://plot.ly"
       },
       "data": [
        {
         "domain": {
          "x": [
           0,
           1
          ],
          "y": [
           0,
           1
          ]
         },
         "gauge": {
          "axis": {
           "range": [
            null,
            100
           ]
          },
          "bar": {
           "color": "#626463"
          },
          "steps": [
           {
            "color": "#f73a5f",
            "range": [
             0,
             50
            ]
           },
           {
            "color": "#05ce78",
            "range": [
             50,
             100
            ]
           }
          ],
          "threshold": {
           "line": {
            "color": "black",
            "width": 1
           },
           "thickness": 1,
           "value": 50
          }
         },
         "mode": "gauge+number",
         "number": {
          "suffix": "%"
         },
         "title": {
          "font": {
           "color": "#7f7f7f",
           "family": "Droid Sans Mono",
           "size": 40
          },
          "text": "Probability of Success"
         },
         "type": "indicator",
         "value": 43
        }
       ],
       "layout": {
        "autosize": true,
        "template": {
         "data": {
          "bar": [
           {
            "error_x": {
             "color": "#2a3f5f"
            },
            "error_y": {
             "color": "#2a3f5f"
            },
            "marker": {
             "line": {
              "color": "#E5ECF6",
              "width": 0.5
             }
            },
            "type": "bar"
           }
          ],
          "barpolar": [
           {
            "marker": {
             "line": {
              "color": "#E5ECF6",
              "width": 0.5
             }
            },
            "type": "barpolar"
           }
          ],
          "carpet": [
           {
            "aaxis": {
             "endlinecolor": "#2a3f5f",
             "gridcolor": "white",
             "linecolor": "white",
             "minorgridcolor": "white",
             "startlinecolor": "#2a3f5f"
            },
            "baxis": {
             "endlinecolor": "#2a3f5f",
             "gridcolor": "white",
             "linecolor": "white",
             "minorgridcolor": "white",
             "startlinecolor": "#2a3f5f"
            },
            "type": "carpet"
           }
          ],
          "choropleth": [
           {
            "colorbar": {
             "outlinewidth": 0,
             "ticks": ""
            },
            "type": "choropleth"
           }
          ],
          "contour": [
           {
            "colorbar": {
             "outlinewidth": 0,
             "ticks": ""
            },
            "colorscale": [
             [
              0,
              "#0d0887"
             ],
             [
              0.1111111111111111,
              "#46039f"
             ],
             [
              0.2222222222222222,
              "#7201a8"
             ],
             [
              0.3333333333333333,
              "#9c179e"
             ],
             [
              0.4444444444444444,
              "#bd3786"
             ],
             [
              0.5555555555555556,
              "#d8576b"
             ],
             [
              0.6666666666666666,
              "#ed7953"
             ],
             [
              0.7777777777777778,
              "#fb9f3a"
             ],
             [
              0.8888888888888888,
              "#fdca26"
             ],
             [
              1,
              "#f0f921"
             ]
            ],
            "type": "contour"
           }
          ],
          "contourcarpet": [
           {
            "colorbar": {
             "outlinewidth": 0,
             "ticks": ""
            },
            "type": "contourcarpet"
           }
          ],
          "heatmap": [
           {
            "colorbar": {
             "outlinewidth": 0,
             "ticks": ""
            },
            "colorscale": [
             [
              0,
              "#0d0887"
             ],
             [
              0.1111111111111111,
              "#46039f"
             ],
             [
              0.2222222222222222,
              "#7201a8"
             ],
             [
              0.3333333333333333,
              "#9c179e"
             ],
             [
              0.4444444444444444,
              "#bd3786"
             ],
             [
              0.5555555555555556,
              "#d8576b"
             ],
             [
              0.6666666666666666,
              "#ed7953"
             ],
             [
              0.7777777777777778,
              "#fb9f3a"
             ],
             [
              0.8888888888888888,
              "#fdca26"
             ],
             [
              1,
              "#f0f921"
             ]
            ],
            "type": "heatmap"
           }
          ],
          "heatmapgl": [
           {
            "colorbar": {
             "outlinewidth": 0,
             "ticks": ""
            },
            "colorscale": [
             [
              0,
              "#0d0887"
             ],
             [
              0.1111111111111111,
              "#46039f"
             ],
             [
              0.2222222222222222,
              "#7201a8"
             ],
             [
              0.3333333333333333,
              "#9c179e"
             ],
             [
              0.4444444444444444,
              "#bd3786"
             ],
             [
              0.5555555555555556,
              "#d8576b"
             ],
             [
              0.6666666666666666,
              "#ed7953"
             ],
             [
              0.7777777777777778,
              "#fb9f3a"
             ],
             [
              0.8888888888888888,
              "#fdca26"
             ],
             [
              1,
              "#f0f921"
             ]
            ],
            "type": "heatmapgl"
           }
          ],
          "histogram": [
           {
            "marker": {
             "colorbar": {
              "outlinewidth": 0,
              "ticks": ""
             }
            },
            "type": "histogram"
           }
          ],
          "histogram2d": [
           {
            "colorbar": {
             "outlinewidth": 0,
             "ticks": ""
            },
            "colorscale": [
             [
              0,
              "#0d0887"
             ],
             [
              0.1111111111111111,
              "#46039f"
             ],
             [
              0.2222222222222222,
              "#7201a8"
             ],
             [
              0.3333333333333333,
              "#9c179e"
             ],
             [
              0.4444444444444444,
              "#bd3786"
             ],
             [
              0.5555555555555556,
              "#d8576b"
             ],
             [
              0.6666666666666666,
              "#ed7953"
             ],
             [
              0.7777777777777778,
              "#fb9f3a"
             ],
             [
              0.8888888888888888,
              "#fdca26"
             ],
             [
              1,
              "#f0f921"
             ]
            ],
            "type": "histogram2d"
           }
          ],
          "histogram2dcontour": [
           {
            "colorbar": {
             "outlinewidth": 0,
             "ticks": ""
            },
            "colorscale": [
             [
              0,
              "#0d0887"
             ],
             [
              0.1111111111111111,
              "#46039f"
             ],
             [
              0.2222222222222222,
              "#7201a8"
             ],
             [
              0.3333333333333333,
              "#9c179e"
             ],
             [
              0.4444444444444444,
              "#bd3786"
             ],
             [
              0.5555555555555556,
              "#d8576b"
             ],
             [
              0.6666666666666666,
              "#ed7953"
             ],
             [
              0.7777777777777778,
              "#fb9f3a"
             ],
             [
              0.8888888888888888,
              "#fdca26"
             ],
             [
              1,
              "#f0f921"
             ]
            ],
            "type": "histogram2dcontour"
           }
          ],
          "mesh3d": [
           {
            "colorbar": {
             "outlinewidth": 0,
             "ticks": ""
            },
            "type": "mesh3d"
           }
          ],
          "parcoords": [
           {
            "line": {
             "colorbar": {
              "outlinewidth": 0,
              "ticks": ""
             }
            },
            "type": "parcoords"
           }
          ],
          "scatter": [
           {
            "marker": {
             "colorbar": {
              "outlinewidth": 0,
              "ticks": ""
             }
            },
            "type": "scatter"
           }
          ],
          "scatter3d": [
           {
            "line": {
             "colorbar": {
              "outlinewidth": 0,
              "ticks": ""
             }
            },
            "marker": {
             "colorbar": {
              "outlinewidth": 0,
              "ticks": ""
             }
            },
            "type": "scatter3d"
           }
          ],
          "scattercarpet": [
           {
            "marker": {
             "colorbar": {
              "outlinewidth": 0,
              "ticks": ""
             }
            },
            "type": "scattercarpet"
           }
          ],
          "scattergeo": [
           {
            "marker": {
             "colorbar": {
              "outlinewidth": 0,
              "ticks": ""
             }
            },
            "type": "scattergeo"
           }
          ],
          "scattergl": [
           {
            "marker": {
             "colorbar": {
              "outlinewidth": 0,
              "ticks": ""
             }
            },
            "type": "scattergl"
           }
          ],
          "scattermapbox": [
           {
            "marker": {
             "colorbar": {
              "outlinewidth": 0,
              "ticks": ""
             }
            },
            "type": "scattermapbox"
           }
          ],
          "scatterpolar": [
           {
            "marker": {
             "colorbar": {
              "outlinewidth": 0,
              "ticks": ""
             }
            },
            "type": "scatterpolar"
           }
          ],
          "scatterpolargl": [
           {
            "marker": {
             "colorbar": {
              "outlinewidth": 0,
              "ticks": ""
             }
            },
            "type": "scatterpolargl"
           }
          ],
          "scatterternary": [
           {
            "marker": {
             "colorbar": {
              "outlinewidth": 0,
              "ticks": ""
             }
            },
            "type": "scatterternary"
           }
          ],
          "surface": [
           {
            "colorbar": {
             "outlinewidth": 0,
             "ticks": ""
            },
            "colorscale": [
             [
              0,
              "#0d0887"
             ],
             [
              0.1111111111111111,
              "#46039f"
             ],
             [
              0.2222222222222222,
              "#7201a8"
             ],
             [
              0.3333333333333333,
              "#9c179e"
             ],
             [
              0.4444444444444444,
              "#bd3786"
             ],
             [
              0.5555555555555556,
              "#d8576b"
             ],
             [
              0.6666666666666666,
              "#ed7953"
             ],
             [
              0.7777777777777778,
              "#fb9f3a"
             ],
             [
              0.8888888888888888,
              "#fdca26"
             ],
             [
              1,
              "#f0f921"
             ]
            ],
            "type": "surface"
           }
          ],
          "table": [
           {
            "cells": {
             "fill": {
              "color": "#EBF0F8"
             },
             "line": {
              "color": "white"
             }
            },
            "header": {
             "fill": {
              "color": "#C8D4E3"
             },
             "line": {
              "color": "white"
             }
            },
            "type": "table"
           }
          ]
         },
         "layout": {
          "annotationdefaults": {
           "arrowcolor": "#2a3f5f",
           "arrowhead": 0,
           "arrowwidth": 1
          },
          "colorscale": {
           "diverging": [
            [
             0,
             "#8e0152"
            ],
            [
             0.1,
             "#c51b7d"
            ],
            [
             0.2,
             "#de77ae"
            ],
            [
             0.3,
             "#f1b6da"
            ],
            [
             0.4,
             "#fde0ef"
            ],
            [
             0.5,
             "#f7f7f7"
            ],
            [
             0.6,
             "#e6f5d0"
            ],
            [
             0.7,
             "#b8e186"
            ],
            [
             0.8,
             "#7fbc41"
            ],
            [
             0.9,
             "#4d9221"
            ],
            [
             1,
             "#276419"
            ]
           ],
           "sequential": [
            [
             0,
             "#0d0887"
            ],
            [
             0.1111111111111111,
             "#46039f"
            ],
            [
             0.2222222222222222,
             "#7201a8"
            ],
            [
             0.3333333333333333,
             "#9c179e"
            ],
            [
             0.4444444444444444,
             "#bd3786"
            ],
            [
             0.5555555555555556,
             "#d8576b"
            ],
            [
             0.6666666666666666,
             "#ed7953"
            ],
            [
             0.7777777777777778,
             "#fb9f3a"
            ],
            [
             0.8888888888888888,
             "#fdca26"
            ],
            [
             1,
             "#f0f921"
            ]
           ],
           "sequentialminus": [
            [
             0,
             "#0d0887"
            ],
            [
             0.1111111111111111,
             "#46039f"
            ],
            [
             0.2222222222222222,
             "#7201a8"
            ],
            [
             0.3333333333333333,
             "#9c179e"
            ],
            [
             0.4444444444444444,
             "#bd3786"
            ],
            [
             0.5555555555555556,
             "#d8576b"
            ],
            [
             0.6666666666666666,
             "#ed7953"
            ],
            [
             0.7777777777777778,
             "#fb9f3a"
            ],
            [
             0.8888888888888888,
             "#fdca26"
            ],
            [
             1,
             "#f0f921"
            ]
           ]
          },
          "colorway": [
           "#636efa",
           "#EF553B",
           "#00cc96",
           "#ab63fa",
           "#FFA15A",
           "#19d3f3",
           "#FF6692",
           "#B6E880",
           "#FF97FF",
           "#FECB52"
          ],
          "font": {
           "color": "#2a3f5f"
          },
          "geo": {
           "bgcolor": "white",
           "lakecolor": "white",
           "landcolor": "#E5ECF6",
           "showlakes": true,
           "showland": true,
           "subunitcolor": "white"
          },
          "hoverlabel": {
           "align": "left"
          },
          "hovermode": "closest",
          "mapbox": {
           "style": "light"
          },
          "paper_bgcolor": "white",
          "plot_bgcolor": "#E5ECF6",
          "polar": {
           "angularaxis": {
            "gridcolor": "white",
            "linecolor": "white",
            "ticks": ""
           },
           "bgcolor": "#E5ECF6",
           "radialaxis": {
            "gridcolor": "white",
            "linecolor": "white",
            "ticks": ""
           }
          },
          "scene": {
           "xaxis": {
            "backgroundcolor": "#E5ECF6",
            "gridcolor": "white",
            "gridwidth": 2,
            "linecolor": "white",
            "showbackground": true,
            "ticks": "",
            "zerolinecolor": "white"
           },
           "yaxis": {
            "backgroundcolor": "#E5ECF6",
            "gridcolor": "white",
            "gridwidth": 2,
            "linecolor": "white",
            "showbackground": true,
            "ticks": "",
            "zerolinecolor": "white"
           },
           "zaxis": {
            "backgroundcolor": "#E5ECF6",
            "gridcolor": "white",
            "gridwidth": 2,
            "linecolor": "white",
            "showbackground": true,
            "ticks": "",
            "zerolinecolor": "white"
           }
          },
          "shapedefaults": {
           "line": {
            "color": "#2a3f5f"
           }
          },
          "ternary": {
           "aaxis": {
            "gridcolor": "white",
            "linecolor": "white",
            "ticks": ""
           },
           "baxis": {
            "gridcolor": "white",
            "linecolor": "white",
            "ticks": ""
           },
           "bgcolor": "#E5ECF6",
           "caxis": {
            "gridcolor": "white",
            "linecolor": "white",
            "ticks": ""
           }
          },
          "title": {
           "x": 0.05
          },
          "xaxis": {
           "automargin": true,
           "gridcolor": "white",
           "linecolor": "white",
           "ticks": "",
           "zerolinecolor": "white",
           "zerolinewidth": 2
          },
          "yaxis": {
           "automargin": true,
           "gridcolor": "white",
           "linecolor": "white",
           "ticks": "",
           "zerolinecolor": "white",
           "zerolinewidth": 2
          }
         }
        }
       }
      },
      "image/png": "[encoded data removed]",
      "text/html": [
       "<div>\n",
       "        \n",
       "        \n",
       "            <div id=\"707b96aa-9762-4a64-a842-9ef6ec36e2d8\" class=\"plotly-graph-div\" style=\"height:525px; width:100%;\"></div>\n",
       "            <script type=\"text/javascript\">\n",
       "                require([\"plotly\"], function(Plotly) {\n",
       "                    window.PLOTLYENV=window.PLOTLYENV || {};\n",
       "                    \n",
       "                if (document.getElementById(\"707b96aa-9762-4a64-a842-9ef6ec36e2d8\")) {\n",
       "                    Plotly.newPlot(\n",
       "                        '707b96aa-9762-4a64-a842-9ef6ec36e2d8',\n",
       "                        [{\"domain\": {\"x\": [0, 1], \"y\": [0, 1]}, \"gauge\": {\"axis\": {\"range\": [null, 100]}, \"bar\": {\"color\": \"#626463\"}, \"steps\": [{\"color\": \"#f73a5f\", \"range\": [0, 50]}, {\"color\": \"#05ce78\", \"range\": [50, 100]}], \"threshold\": {\"line\": {\"color\": \"black\", \"width\": 1}, \"thickness\": 1, \"value\": 50}}, \"mode\": \"gauge+number\", \"number\": {\"suffix\": \"%\"}, \"title\": {\"font\": {\"color\": \"#7f7f7f\", \"family\": \"Droid Sans Mono\", \"size\": 40}, \"text\": \"Probability of Success\"}, \"type\": \"indicator\", \"value\": 43.0}],\n",
       "                        {\"template\": {\"data\": {\"bar\": [{\"error_x\": {\"color\": \"#2a3f5f\"}, \"error_y\": {\"color\": \"#2a3f5f\"}, \"marker\": {\"line\": {\"color\": \"#E5ECF6\", \"width\": 0.5}}, \"type\": \"bar\"}], \"barpolar\": [{\"marker\": {\"line\": {\"color\": \"#E5ECF6\", \"width\": 0.5}}, \"type\": \"barpolar\"}], \"carpet\": [{\"aaxis\": {\"endlinecolor\": \"#2a3f5f\", \"gridcolor\": \"white\", \"linecolor\": \"white\", \"minorgridcolor\": \"white\", \"startlinecolor\": \"#2a3f5f\"}, \"baxis\": {\"endlinecolor\": \"#2a3f5f\", \"gridcolor\": \"white\", \"linecolor\": \"white\", \"minorgridcolor\": \"white\", \"startlinecolor\": \"#2a3f5f\"}, \"type\": \"carpet\"}], \"choropleth\": [{\"colorbar\": {\"outlinewidth\": 0, \"ticks\": \"\"}, \"type\": \"choropleth\"}], \"contour\": [{\"colorbar\": {\"outlinewidth\": 0, \"ticks\": \"\"}, \"colorscale\": [[0.0, \"#0d0887\"], [0.1111111111111111, \"#46039f\"], [0.2222222222222222, \"#7201a8\"], [0.3333333333333333, \"#9c179e\"], [0.4444444444444444, \"#bd3786\"], [0.5555555555555556, \"#d8576b\"], [0.6666666666666666, \"#ed7953\"], [0.7777777777777778, \"#fb9f3a\"], [0.8888888888888888, \"#fdca26\"], [1.0, \"#f0f921\"]], \"type\": \"contour\"}], \"contourcarpet\": [{\"colorbar\": {\"outlinewidth\": 0, \"ticks\": \"\"}, \"type\": \"contourcarpet\"}], \"heatmap\": [{\"colorbar\": {\"outlinewidth\": 0, \"ticks\": \"\"}, \"colorscale\": [[0.0, \"#0d0887\"], [0.1111111111111111, \"#46039f\"], [0.2222222222222222, \"#7201a8\"], [0.3333333333333333, \"#9c179e\"], [0.4444444444444444, \"#bd3786\"], [0.5555555555555556, \"#d8576b\"], [0.6666666666666666, \"#ed7953\"], [0.7777777777777778, \"#fb9f3a\"], [0.8888888888888888, \"#fdca26\"], [1.0, \"#f0f921\"]], \"type\": \"heatmap\"}], \"heatmapgl\": [{\"colorbar\": {\"outlinewidth\": 0, \"ticks\": \"\"}, \"colorscale\": [[0.0, \"#0d0887\"], [0.1111111111111111, \"#46039f\"], [0.2222222222222222, \"#7201a8\"], [0.3333333333333333, \"#9c179e\"], [0.4444444444444444, \"#bd3786\"], [0.5555555555555556, \"#d8576b\"], [0.6666666666666666, \"#ed7953\"], [0.7777777777777778, \"#fb9f3a\"], [0.8888888888888888, \"#fdca26\"], [1.0, \"#f0f921\"]], \"type\": \"heatmapgl\"}], \"histogram\": [{\"marker\": {\"colorbar\": {\"outlinewidth\": 0, \"ticks\": \"\"}}, \"type\": \"histogram\"}], \"histogram2d\": [{\"colorbar\": {\"outlinewidth\": 0, \"ticks\": \"\"}, \"colorscale\": [[0.0, \"#0d0887\"], [0.1111111111111111, \"#46039f\"], [0.2222222222222222, \"#7201a8\"], [0.3333333333333333, \"#9c179e\"], [0.4444444444444444, \"#bd3786\"], [0.5555555555555556, \"#d8576b\"], [0.6666666666666666, \"#ed7953\"], [0.7777777777777778, \"#fb9f3a\"], [0.8888888888888888, \"#fdca26\"], [1.0, \"#f0f921\"]], \"type\": \"histogram2d\"}], \"histogram2dcontour\": [{\"colorbar\": {\"outlinewidth\": 0, \"ticks\": \"\"}, \"colorscale\": [[0.0, \"#0d0887\"], [0.1111111111111111, \"#46039f\"], [0.2222222222222222, \"#7201a8\"], [0.3333333333333333, \"#9c179e\"], [0.4444444444444444, \"#bd3786\"], [0.5555555555555556, \"#d8576b\"], [0.6666666666666666, \"#ed7953\"], [0.7777777777777778, \"#fb9f3a\"], [0.8888888888888888, \"#fdca26\"], [1.0, \"#f0f921\"]], \"type\": \"histogram2dcontour\"}], \"mesh3d\": [{\"colorbar\": {\"outlinewidth\": 0, \"ticks\": \"\"}, \"type\": \"mesh3d\"}], \"parcoords\": [{\"line\": {\"colorbar\": {\"outlinewidth\": 0, \"ticks\": \"\"}}, \"type\": \"parcoords\"}], \"scatter\": [{\"marker\": {\"colorbar\": {\"outlinewidth\": 0, \"ticks\": \"\"}}, \"type\": \"scatter\"}], \"scatter3d\": [{\"line\": {\"colorbar\": {\"outlinewidth\": 0, \"ticks\": \"\"}}, \"marker\": {\"colorbar\": {\"outlinewidth\": 0, \"ticks\": \"\"}}, \"type\": \"scatter3d\"}], \"scattercarpet\": [{\"marker\": {\"colorbar\": {\"outlinewidth\": 0, \"ticks\": \"\"}}, \"type\": \"scattercarpet\"}], \"scattergeo\": [{\"marker\": {\"colorbar\": {\"outlinewidth\": 0, \"ticks\": \"\"}}, \"type\": \"scattergeo\"}], \"scattergl\": [{\"marker\": {\"colorbar\": {\"outlinewidth\": 0, \"ticks\": \"\"}}, \"type\": \"scattergl\"}], \"scattermapbox\": [{\"marker\": {\"colorbar\": {\"outlinewidth\": 0, \"ticks\": \"\"}}, \"type\": \"scattermapbox\"}], \"scatterpolar\": [{\"marker\": {\"colorbar\": {\"outlinewidth\": 0, \"ticks\": \"\"}}, \"type\": \"scatterpolar\"}], \"scatterpolargl\": [{\"marker\": {\"colorbar\": {\"outlinewidth\": 0, \"ticks\": \"\"}}, \"type\": \"scatterpolargl\"}], \"scatterternary\": [{\"marker\": {\"colorbar\": {\"outlinewidth\": 0, \"ticks\": \"\"}}, \"type\": \"scatterternary\"}], \"surface\": [{\"colorbar\": {\"outlinewidth\": 0, \"ticks\": \"\"}, \"colorscale\": [[0.0, \"#0d0887\"], [0.1111111111111111, \"#46039f\"], [0.2222222222222222, \"#7201a8\"], [0.3333333333333333, \"#9c179e\"], [0.4444444444444444, \"#bd3786\"], [0.5555555555555556, \"#d8576b\"], [0.6666666666666666, \"#ed7953\"], [0.7777777777777778, \"#fb9f3a\"], [0.8888888888888888, \"#fdca26\"], [1.0, \"#f0f921\"]], \"type\": \"surface\"}], \"table\": [{\"cells\": {\"fill\": {\"color\": \"#EBF0F8\"}, \"line\": {\"color\": \"white\"}}, \"header\": {\"fill\": {\"color\": \"#C8D4E3\"}, \"line\": {\"color\": \"white\"}}, \"type\": \"table\"}]}, \"layout\": {\"annotationdefaults\": {\"arrowcolor\": \"#2a3f5f\", \"arrowhead\": 0, \"arrowwidth\": 1}, \"colorscale\": {\"diverging\": [[0, \"#8e0152\"], [0.1, \"#c51b7d\"], [0.2, \"#de77ae\"], [0.3, \"#f1b6da\"], [0.4, \"#fde0ef\"], [0.5, \"#f7f7f7\"], [0.6, \"#e6f5d0\"], [0.7, \"#b8e186\"], [0.8, \"#7fbc41\"], [0.9, \"#4d9221\"], [1, \"#276419\"]], \"sequential\": [[0.0, \"#0d0887\"], [0.1111111111111111, \"#46039f\"], [0.2222222222222222, \"#7201a8\"], [0.3333333333333333, \"#9c179e\"], [0.4444444444444444, \"#bd3786\"], [0.5555555555555556, \"#d8576b\"], [0.6666666666666666, \"#ed7953\"], [0.7777777777777778, \"#fb9f3a\"], [0.8888888888888888, \"#fdca26\"], [1.0, \"#f0f921\"]], \"sequentialminus\": [[0.0, \"#0d0887\"], [0.1111111111111111, \"#46039f\"], [0.2222222222222222, \"#7201a8\"], [0.3333333333333333, \"#9c179e\"], [0.4444444444444444, \"#bd3786\"], [0.5555555555555556, \"#d8576b\"], [0.6666666666666666, \"#ed7953\"], [0.7777777777777778, \"#fb9f3a\"], [0.8888888888888888, \"#fdca26\"], [1.0, \"#f0f921\"]]}, \"colorway\": [\"#636efa\", \"#EF553B\", \"#00cc96\", \"#ab63fa\", \"#FFA15A\", \"#19d3f3\", \"#FF6692\", \"#B6E880\", \"#FF97FF\", \"#FECB52\"], \"font\": {\"color\": \"#2a3f5f\"}, \"geo\": {\"bgcolor\": \"white\", \"lakecolor\": \"white\", \"landcolor\": \"#E5ECF6\", \"showlakes\": true, \"showland\": true, \"subunitcolor\": \"white\"}, \"hoverlabel\": {\"align\": \"left\"}, \"hovermode\": \"closest\", \"mapbox\": {\"style\": \"light\"}, \"paper_bgcolor\": \"white\", \"plot_bgcolor\": \"#E5ECF6\", \"polar\": {\"angularaxis\": {\"gridcolor\": \"white\", \"linecolor\": \"white\", \"ticks\": \"\"}, \"bgcolor\": \"#E5ECF6\", \"radialaxis\": {\"gridcolor\": \"white\", \"linecolor\": \"white\", \"ticks\": \"\"}}, \"scene\": {\"xaxis\": {\"backgroundcolor\": \"#E5ECF6\", \"gridcolor\": \"white\", \"gridwidth\": 2, \"linecolor\": \"white\", \"showbackground\": true, \"ticks\": \"\", \"zerolinecolor\": \"white\"}, \"yaxis\": {\"backgroundcolor\": \"#E5ECF6\", \"gridcolor\": \"white\", \"gridwidth\": 2, \"linecolor\": \"white\", \"showbackground\": true, \"ticks\": \"\", \"zerolinecolor\": \"white\"}, \"zaxis\": {\"backgroundcolor\": \"#E5ECF6\", \"gridcolor\": \"white\", \"gridwidth\": 2, \"linecolor\": \"white\", \"showbackground\": true, \"ticks\": \"\", \"zerolinecolor\": \"white\"}}, \"shapedefaults\": {\"line\": {\"color\": \"#2a3f5f\"}}, \"ternary\": {\"aaxis\": {\"gridcolor\": \"white\", \"linecolor\": \"white\", \"ticks\": \"\"}, \"baxis\": {\"gridcolor\": \"white\", \"linecolor\": \"white\", \"ticks\": \"\"}, \"bgcolor\": \"#E5ECF6\", \"caxis\": {\"gridcolor\": \"white\", \"linecolor\": \"white\", \"ticks\": \"\"}}, \"title\": {\"x\": 0.05}, \"xaxis\": {\"automargin\": true, \"gridcolor\": \"white\", \"linecolor\": \"white\", \"ticks\": \"\", \"zerolinecolor\": \"white\", \"zerolinewidth\": 2}, \"yaxis\": {\"automargin\": true, \"gridcolor\": \"white\", \"linecolor\": \"white\", \"ticks\": \"\", \"zerolinecolor\": \"white\", \"zerolinewidth\": 2}}}},\n",
       "                        {\"responsive\": true}\n",
       "                    ).then(function(){\n",
       "                            \n",
       "var gd = document.getElementById('707b96aa-9762-4a64-a842-9ef6ec36e2d8');\n",
       "var x = new MutationObserver(function (mutations, observer) {{\n",
       "        var display = window.getComputedStyle(gd).display;\n",
       "        if (!display || display === 'none') {{\n",
       "            console.log([gd, 'removed!']);\n",
       "            Plotly.purge(gd);\n",
       "            observer.disconnect();\n",
       "        }}\n",
       "}});\n",
       "\n",
       "// Listen for the removal of the full notebook cells\n",
       "var notebookContainer = gd.closest('#notebook-container');\n",
       "if (notebookContainer) {{\n",
       "    x.observe(notebookContainer, {childList: true});\n",
       "}}\n",
       "\n",
       "// Listen for the clearing of the current output cell\n",
       "var outputEl = gd.closest('.output');\n",
       "if (outputEl) {{\n",
       "    x.observe(outputEl, {childList: true});\n",
       "}}\n",
       "\n",
       "                        })\n",
       "                };\n",
       "                });\n",
       "            </script>\n",
       "        </div>"
      ]
     },
     "metadata": {},
     "output_type": "display_data"
    }
   ],
   "source": [
    "fig = go.Figure(go.Indicator(\n",
    "    mode = \"gauge+number\", \n",
    "    value = probability,\n",
    "    number = {'suffix': \"%\"},\n",
    "    domain = {'x': [0, 1], 'y': [0, 1]},\n",
    "    title = {'text': \"Probability of Success\", 'font':{'family':'Droid Sans Mono', 'size':40, 'color':'#7f7f7f'}},\n",
    "    gauge = {'axis': {'range': [None, 100]},\n",
    "             'bar': {'color': \"#626463\"},\n",
    "             'steps' : [\n",
    "                 {'range': [0, 50], 'color': \"#f73a5f\"}, \n",
    "                 {'range': [50, 100], 'color': \"#05ce78\"}], \n",
    "             'threshold' : {'line': {'color': \"black\", 'width': 1}, 'thickness': 1, 'value': 50}}))\n",
    "\n",
    "fig.show()\n"
   ]
  },
  {
   "cell_type": "code",
   "execution_count": 9,
   "metadata": {},
   "outputs": [
    {
     "data": {
      "text/plain": [
       "'Software'"
      ]
     },
     "execution_count": 9,
     "metadata": {},
     "output_type": "execute_result"
    }
   ],
   "source": [
    "category = data_df['categories'].map(flipped)[0]\n",
    "category"
   ]
  },
  {
   "cell_type": "code",
   "execution_count": 5,
   "metadata": {},
   "outputs": [],
   "source": [
    "flipped = {0: 'Space Exploration',\n",
    " 1: 'Wearables',\n",
    " 2: 'Hardware',\n",
    " 3: 'Software',\n",
    " 4: 'Web',\n",
    " 5: 'Sound',\n",
    " 6: \"Children's Books\",\n",
    " 7: 'Calendars',\n",
    " 8: 'Art Books',\n",
    " 9: 'Fiction',\n",
    " 10: 'Nature',\n",
    " 11: 'People',\n",
    " 12: 'Letterpress',\n",
    " 13: 'Literary Journals',\n",
    " 14: 'Nonfiction',\n",
    " 15: 'Footwear',\n",
    " 16: 'Jewelry',\n",
    " 17: 'Pet Fashion',\n",
    " 18: 'Ready-to-wear',\n",
    " 19: 'Apparel',\n",
    " 20: 'Animation',\n",
    " 21: 'Comedy',\n",
    " 22: 'Documentary',\n",
    " 23: 'Action',\n",
    " 24: 'Textiles',\n",
    " 25: 'Sculpture',\n",
    " 26: 'Public Art',\n",
    " 27: 'Performance Art',\n",
    " 28: 'Crafts',\n",
    " 29: 'DIY',\n",
    " 30: 'Woodworking',\n",
    " 31: 'Knitting',\n",
    " 32: 'Candles',\n",
    " 33: 'Quilts',\n",
    " 34: 'Glass',\n",
    " 35: 'Embroidery',\n",
    " 36: 'Crochet',\n",
    " 37: 'Pottery',\n",
    " 38: 'Product Design',\n",
    " 39: 'Graphic Design',\n",
    " 40: 'Design',\n",
    " 41: 'Typography',\n",
    " 42: 'Interactive Design',\n",
    " 43: 'Civic Design',\n",
    " 44: 'Architecture',\n",
    " 45: 'Shorts',\n",
    " 46: 'Narrative Film',\n",
    " 47: 'Film & Video',\n",
    " 48: 'Webseries',\n",
    " 49: 'Thrillers',\n",
    " 50: 'Family',\n",
    " 51: 'Experimental',\n",
    " 52: 'Science Fiction',\n",
    " 53: 'Fantasy',\n",
    " 54: 'Music Videos',\n",
    " 55: 'Horror',\n",
    " 56: 'Movie Theaters',\n",
    " 57: 'Drama',\n",
    " 58: 'Romance',\n",
    " 59: 'Television',\n",
    " 60: 'Festivals',\n",
    " 61: 'Food',\n",
    " 62: 'Small Batch',\n",
    " 63: \"Farmer's Markets\",\n",
    " 64: 'Restaurants',\n",
    " 65: 'Farms',\n",
    " 66: 'Drinks',\n",
    " 67: 'Events',\n",
    " 68: 'Food Trucks',\n",
    " 69: 'Cookbooks',\n",
    " 70: 'Vegan',\n",
    " 71: 'Spaces',\n",
    " 72: 'Community Gardens',\n",
    " 73: 'Bacon',\n",
    " 74: 'Fashion',\n",
    " 75: 'Accessories',\n",
    " 76: 'Couture',\n",
    " 77: 'Childrenswear',\n",
    " 78: 'Places',\n",
    " 79: 'Digital Art',\n",
    " 80: 'Flight',\n",
    " 81: 'Graphic Novels',\n",
    " 82: 'Dance',\n",
    " 83: 'R&B',\n",
    " 84: 'Performances',\n",
    " 85: 'Gaming Hardware',\n",
    " 86: 'Mobile Games',\n",
    " 87: 'Gadgets',\n",
    " 88: 'Young Adult',\n",
    " 89: 'Illustration',\n",
    " 90: 'Translations',\n",
    " 91: 'Zines',\n",
    " 92: 'Weaving',\n",
    " 93: 'Ceramics',\n",
    " 94: 'Radio & Podcasts',\n",
    " 95: 'Immersive',\n",
    " 96: 'Technology',\n",
    " 97: 'Blues',\n",
    " 98: 'DIY Electronics',\n",
    " 99: 'Jazz',\n",
    " 100: 'Electronic Music',\n",
    " 101: 'Apps',\n",
    " 102: 'Camera Equipment',\n",
    " 103: 'Robots',\n",
    " 104: '3D Printing',\n",
    " 105: 'Workshops',\n",
    " 106: 'Poetry',\n",
    " 107: 'Photobooks',\n",
    " 108: 'Photography',\n",
    " 109: 'World Music',\n",
    " 110: 'Mixed Media',\n",
    " 111: 'Residencies',\n",
    " 112: 'Fine Art',\n",
    " 113: 'Classical Music',\n",
    " 114: 'Printing',\n",
    " 115: 'Webcomics',\n",
    " 116: 'Animals',\n",
    " 117: 'Publishing',\n",
    " 118: 'Kids',\n",
    " 119: 'Academic',\n",
    " 120: 'Periodicals',\n",
    " 121: 'Anthologies',\n",
    " 122: 'Indie Rock',\n",
    " 123: 'Comic Books',\n",
    " 124: 'Games',\n",
    " 125: 'Tabletop Games',\n",
    " 126: 'Installations',\n",
    " 127: 'Conceptual Art',\n",
    " 128: 'Playing Cards',\n",
    " 129: 'Puzzles',\n",
    " 130: 'Metal',\n",
    " 131: 'Video Games',\n",
    " 132: 'Photo',\n",
    " 133: 'Pop',\n",
    " 134: 'Rock',\n",
    " 135: 'Country & Folk',\n",
    " 136: 'Print',\n",
    " 137: 'Video',\n",
    " 138: 'Latin',\n",
    " 139: 'Faith',\n",
    " 140: 'Art',\n",
    " 141: 'Painting',\n",
    " 142: 'Video Art',\n",
    " 143: 'Makerspaces',\n",
    " 144: 'Hip-Hop',\n",
    " 145: 'Music',\n",
    " 146: 'Stationery',\n",
    " 147: 'Punk',\n",
    " 148: 'Fabrication Tools',\n",
    " 149: 'Chiptune',\n",
    " 150: 'Musical',\n",
    " 151: 'Theater',\n",
    " 152: 'Comics',\n",
    " 153: 'Plays',\n",
    " 154: 'Journalism',\n",
    " 155: 'Audio',\n",
    " 156: 'Literary Spaces',\n",
    " 157: 'Live Games',\n",
    " 158: 'Taxidermy'}\n",
    "\n",
    "\n"
   ]
  },
  {
   "cell_type": "code",
   "execution_count": 13,
   "metadata": {},
   "outputs": [],
   "source": [
    "categories = {'Space Exploration': 0,\n",
    " 'Wearables': 1,\n",
    " 'Hardware': 2,\n",
    " 'Software': 3,\n",
    " 'Web': 4,\n",
    " 'Sound': 5,\n",
    " \"Children's Books\": 6,\n",
    " 'Calendars': 7,\n",
    " 'Art Books': 8,\n",
    " 'Fiction': 9,\n",
    " 'Nature': 10,\n",
    " 'People': 11,\n",
    " 'Letterpress': 12,\n",
    " 'Literary Journals': 13,\n",
    " 'Nonfiction': 14,\n",
    " 'Footwear': 15,\n",
    " 'Jewelry': 16,\n",
    " 'Pet Fashion': 17,\n",
    " 'Ready-to-wear': 18,\n",
    " 'Apparel': 19,\n",
    " 'Animation': 20,\n",
    " 'Comedy': 21,\n",
    " 'Documentary': 22,\n",
    " 'Action': 23,\n",
    " 'Textiles': 24,\n",
    " 'Sculpture': 25,\n",
    " 'Public Art': 26,\n",
    " 'Performance Art': 27,\n",
    " 'Crafts': 28,\n",
    " 'DIY': 29,\n",
    " 'Woodworking': 30,\n",
    " 'Knitting': 31,\n",
    " 'Candles': 32,\n",
    " 'Quilts': 33,\n",
    " 'Glass': 34,\n",
    " 'Embroidery': 35,\n",
    " 'Crochet': 36,\n",
    " 'Pottery': 37,\n",
    " 'Product Design': 38,\n",
    " 'Graphic Design': 39,\n",
    " 'Design': 40,\n",
    " 'Typography': 41,\n",
    " 'Interactive Design': 42,\n",
    " 'Civic Design': 43,\n",
    " 'Architecture': 44,\n",
    " 'Shorts': 45,\n",
    " 'Narrative Film': 46,\n",
    " 'Film & Video': 47,\n",
    " 'Webseries': 48,\n",
    " 'Thrillers': 49,\n",
    " 'Family': 50,\n",
    " 'Experimental': 51,\n",
    " 'Science Fiction': 52,\n",
    " 'Fantasy': 53,\n",
    " 'Music Videos': 54,\n",
    " 'Horror': 55,\n",
    " 'Movie Theaters': 56,\n",
    " 'Drama': 57,\n",
    " 'Romance': 58,\n",
    " 'Television': 59,\n",
    " 'Festivals': 60,\n",
    " 'Food': 61,\n",
    " 'Small Batch': 62,\n",
    " \"Farmer's Markets\": 63,\n",
    " 'Restaurants': 64,\n",
    " 'Farms': 65,\n",
    " 'Drinks': 66,\n",
    " 'Events': 67,\n",
    " 'Food Trucks': 68,\n",
    " 'Cookbooks': 69,\n",
    " 'Vegan': 70,\n",
    " 'Spaces': 71,\n",
    " 'Community Gardens': 72,\n",
    " 'Bacon': 73,\n",
    " 'Fashion': 74,\n",
    " 'Accessories': 75,\n",
    " 'Couture': 76,\n",
    " 'Childrenswear': 77,\n",
    " 'Places': 78,\n",
    " 'Digital Art': 79,\n",
    " 'Flight': 80,\n",
    " 'Graphic Novels': 81,\n",
    " 'Dance': 82,\n",
    " 'R&B': 83,\n",
    " 'Performances': 84,\n",
    " 'Gaming Hardware': 85,\n",
    " 'Mobile Games': 86,\n",
    " 'Gadgets': 87,\n",
    " 'Young Adult': 88,\n",
    " 'Illustration': 89,\n",
    " 'Translations': 90,\n",
    " 'Zines': 91,\n",
    " 'Weaving': 92,\n",
    " 'Ceramics': 93,\n",
    " 'Radio & Podcasts': 94,\n",
    " 'Immersive': 95,\n",
    " 'Technology': 96,\n",
    " 'Blues': 97,\n",
    " 'DIY Electronics': 98,\n",
    " 'Jazz': 99,\n",
    " 'Electronic Music': 100,\n",
    " 'Apps': 101,\n",
    " 'Camera Equipment': 102,\n",
    " 'Robots': 103,\n",
    " '3D Printing': 104,\n",
    " 'Workshops': 105,\n",
    " 'Poetry': 106,\n",
    " 'Photobooks': 107,\n",
    " 'Photography': 108,\n",
    " 'World Music': 109,\n",
    " 'Mixed Media': 110,\n",
    " 'Residencies': 111,\n",
    " 'Fine Art': 112,\n",
    " 'Classical Music': 113,\n",
    " 'Printing': 114,\n",
    " 'Webcomics': 115,\n",
    " 'Animals': 116,\n",
    " 'Publishing': 117,\n",
    " 'Kids': 118,\n",
    " 'Academic': 119,\n",
    " 'Periodicals': 120,\n",
    " 'Anthologies': 121,\n",
    " 'Indie Rock': 122,\n",
    " 'Comic Books': 123,\n",
    " 'Games': 124,\n",
    " 'Tabletop Games': 125,\n",
    " 'Installations': 126,\n",
    " 'Conceptual Art': 127,\n",
    " 'Playing Cards': 128,\n",
    " 'Puzzles': 129,\n",
    " 'Metal': 130,\n",
    " 'Video Games': 131,\n",
    " 'Photo': 132,\n",
    " 'Pop': 133,\n",
    " 'Rock': 134,\n",
    " 'Country & Folk': 135,\n",
    " 'Print': 136,\n",
    " 'Video': 137,\n",
    " 'Latin': 138,\n",
    " 'Faith': 139,\n",
    " 'Art': 140,\n",
    " 'Painting': 141,\n",
    " 'Video Art': 142,\n",
    " 'Makerspaces': 143,\n",
    " 'Hip-Hop': 144,\n",
    " 'Music': 145,\n",
    " 'Stationery': 146,\n",
    " 'Punk': 147,\n",
    " 'Fabrication Tools': 148,\n",
    " 'Chiptune': 149,\n",
    " 'Musical': 150,\n",
    " 'Theater': 151,\n",
    " 'Comics': 152,\n",
    " 'Plays': 153,\n",
    " 'Journalism': 154,\n",
    " 'Audio': 155,\n",
    " 'Literary Spaces': 156,\n",
    " 'Live Games': 157,\n",
    " 'Taxidermy': 158}"
   ]
  },
  {
   "cell_type": "code",
   "execution_count": 16,
   "metadata": {},
   "outputs": [],
   "source": [
    "countries = {'US': 0,\n",
    " 'GB': 1,\n",
    " 'AU': 2,\n",
    " 'ES': 3,\n",
    " 'FR': 4,\n",
    " 'CA': 5,\n",
    " 'DE': 6,\n",
    " 'IT': 7,\n",
    " 'NL': 8,\n",
    " 'CH': 9,\n",
    " 'DK': 10,\n",
    " 'NO': 11,\n",
    " 'IE': 12,\n",
    " 'SE': 13,\n",
    " 'BE': 14,\n",
    " 'AT': 15,\n",
    " 'NZ': 16,\n",
    " 'LU': 17,\n",
    " 'SG': 18,\n",
    " 'MX': 19,\n",
    " 'HK': 20,\n",
    " 'JP': 21}"
   ]
  }
 ],
 "metadata": {
  "kernelspec": {
   "display_name": "Python 3",
   "language": "python",
   "name": "python3"
  },
  "language_info": {
   "codemirror_mode": {
    "name": "ipython",
    "version": 3
   },
   "file_extension": ".py",
   "mimetype": "text/x-python",
   "name": "python",
   "nbconvert_exporter": "python",
   "pygments_lexer": "ipython3",
   "version": "3.7.3"
  }
 },
 "nbformat": 4,
 "nbformat_minor": 4
}
