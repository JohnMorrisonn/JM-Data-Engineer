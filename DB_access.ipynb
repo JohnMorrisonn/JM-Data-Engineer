{
 "cells": [
  {
   "cell_type": "code",
   "execution_count": null,
   "metadata": {},
   "outputs": [],
   "source": [
    "pip install MySQL-python"
   ]
  },
  {
   "cell_type": "code",
   "execution_count": 1,
   "metadata": {},
   "outputs": [],
   "source": [
    "import pandas as pd\n",
    "import mysql.connector"
   ]
  },
  {
   "cell_type": "code",
   "execution_count": 3,
   "metadata": {},
   "outputs": [],
   "source": [
    "# Make sure to put this into a .env and delete from here\n",
    "\n",
    "hostname = 'a2plcpnl0542.prod.iad2.secureserver.net'\n",
    "port = 3306\n",
    "database_name = 'LambdaSchool'\n",
    "username = 'jmor'\n",
    "password = 'zYy0^i@xB-Lm'"
   ]
  },
  {
   "cell_type": "code",
   "execution_count": 1,
   "metadata": {},
   "outputs": [
    {
     "name": "stdout",
     "output_type": "stream",
     "text": [
      "Collecting mysql-connector\n",
      "  Downloading https://files.pythonhosted.org/packages/28/04/e40098f3730e75bbe36a338926f566ea803550a34fb50535499f4fc4787a/mysql-connector-2.2.9.tar.gz (11.9MB)\n",
      "Building wheels for collected packages: mysql-connector\n",
      "  Building wheel for mysql-connector (setup.py): started\n",
      "  Building wheel for mysql-connector (setup.py): finished with status 'done'\n",
      "  Stored in directory: C:\\Users\\John\\AppData\\Local\\pip\\Cache\\wheels\\8c\\83\\a1\\f8b6d4bb1bd6208bbde1608bbfa7557504bed9eaf2ecf8c175\n",
      "Successfully built mysql-connector\n",
      "Installing collected packages: mysql-connector\n",
      "Successfully installed mysql-connector-2.2.9\n",
      "Note: you may need to restart the kernel to use updated packages.\n"
     ]
    }
   ],
   "source": [
    "pip install mysql-connector"
   ]
  },
  {
   "cell_type": "code",
   "execution_count": 4,
   "metadata": {},
   "outputs": [],
   "source": [
    "mydb = mysql.connector.connect(\n",
    "  host=hostname,\n",
    "  user=username,\n",
    "  passwd=password,\n",
    "  db=database_name\n",
    ")\n",
    "\n",
    "cursor = mydb.cursor(prepared=True)"
   ]
  },
  {
   "cell_type": "code",
   "execution_count": 5,
   "metadata": {},
   "outputs": [],
   "source": [
    "csv_data = pd.read_csv('clean_data_no_dup.csv')"
   ]
  },
  {
   "cell_type": "code",
   "execution_count": 6,
   "metadata": {},
   "outputs": [
    {
     "name": "stdout",
     "output_type": "stream",
     "text": [
      "(649853, 17)\n"
     ]
    },
    {
     "data": {
      "text/plain": [
       "['id',\n",
       " 'name',\n",
       " 'blurb',\n",
       " 'category',\n",
       " 'campaign_duration_days',\n",
       " 'goal_usd',\n",
       " 'country',\n",
       " 'city',\n",
       " 'state',\n",
       " 'date_created',\n",
       " 'deadline_date',\n",
       " 'launched_date',\n",
       " 'state_changed_at',\n",
       " 'backers_count',\n",
       " 'usd_pledged',\n",
       " 'url',\n",
       " 'target']"
      ]
     },
     "execution_count": 6,
     "metadata": {},
     "output_type": "execute_result"
    }
   ],
   "source": [
    "print(csv_data.shape)\n",
    "columns = csv_data.columns.to_list()\n",
    "columns"
   ]
  },
  {
   "cell_type": "code",
   "execution_count": 7,
   "metadata": {},
   "outputs": [],
   "source": [
    "create_clean_data_2 = \"\"\"\n",
    "    CREATE TABLE clean_data_2 (\n",
    "        id INT,\n",
    "        campaignName VARCHAR(100),\n",
    "        description VARCHAR(200),\n",
    "        categories VARCHAR(50),\n",
    "        duration INT,\n",
    "        monetaryGoal INT,\n",
    "        country VARCHAR(50),\n",
    "        city VARCHAR(50),\n",
    "        state VARCHAR(50),\n",
    "        date_created DATE,\n",
    "        deadline_date DATE,\n",
    "        launched_date DATE,\n",
    "        state_changed_at DATE,\n",
    "        backers_count INT,\n",
    "        usd_pledged INT,\n",
    "        url VARCHAR(100),\n",
    "        target VARCHAR(50)\n",
    "    );\n",
    "\"\"\"\n",
    "\n",
    "\n",
    "\n",
    "cursor.execute(create_clean_data_2)"
   ]
  },
  {
   "cell_type": "code",
   "execution_count": 75,
   "metadata": {
    "collapsed": true
   },
   "outputs": [
    {
     "ename": "KeyboardInterrupt",
     "evalue": "",
     "output_type": "error",
     "traceback": [
      "\u001b[1;31m---------------------------------------------------------------------------\u001b[0m",
      "\u001b[1;31mKeyboardInterrupt\u001b[0m                         Traceback (most recent call last)",
      "\u001b[1;32m<ipython-input-75-8af6c25b1723>\u001b[0m in \u001b[0;36m<module>\u001b[1;34m\u001b[0m\n\u001b[0;32m     14\u001b[0m             \u001b[1;34m\"VALUES(%s,%s,%s,%s,%s,%s,%s,%s,%s,%s,%s,%s,%s,%s,%s,%s,%s)\"\u001b[0m\u001b[1;33m\u001b[0m\u001b[1;33m\u001b[0m\u001b[0m\n\u001b[0;32m     15\u001b[0m         )\n\u001b[1;32m---> 16\u001b[1;33m         \u001b[0mcursor\u001b[0m\u001b[1;33m.\u001b[0m\u001b[0mexecute\u001b[0m\u001b[1;33m(\u001b[0m\u001b[0minsert_stmt\u001b[0m\u001b[1;33m,\u001b[0m \u001b[0mtemp\u001b[0m\u001b[1;33m)\u001b[0m\u001b[1;33m\u001b[0m\u001b[1;33m\u001b[0m\u001b[0m\n\u001b[0m\u001b[0;32m     17\u001b[0m \u001b[1;33m\u001b[0m\u001b[0m\n\u001b[0;32m     18\u001b[0m \u001b[1;33m\u001b[0m\u001b[0m\n",
      "\u001b[1;32m~\\Anaconda3\\lib\\site-packages\\mysql\\connector\\cursor.py\u001b[0m in \u001b[0;36mexecute\u001b[1;34m(self, operation, params, multi)\u001b[0m\n\u001b[0;32m   1143\u001b[0m                 \u001b[1;32mraise\u001b[0m\u001b[1;33m\u001b[0m\u001b[1;33m\u001b[0m\u001b[0m\n\u001b[0;32m   1144\u001b[0m \u001b[1;33m\u001b[0m\u001b[0m\n\u001b[1;32m-> 1145\u001b[1;33m         \u001b[0mself\u001b[0m\u001b[1;33m.\u001b[0m\u001b[0m_connection\u001b[0m\u001b[1;33m.\u001b[0m\u001b[0mcmd_stmt_reset\u001b[0m\u001b[1;33m(\u001b[0m\u001b[0mself\u001b[0m\u001b[1;33m.\u001b[0m\u001b[0m_prepared\u001b[0m\u001b[1;33m[\u001b[0m\u001b[1;34m'statement_id'\u001b[0m\u001b[1;33m]\u001b[0m\u001b[1;33m)\u001b[0m\u001b[1;33m\u001b[0m\u001b[1;33m\u001b[0m\u001b[0m\n\u001b[0m\u001b[0;32m   1146\u001b[0m \u001b[1;33m\u001b[0m\u001b[0m\n\u001b[0;32m   1147\u001b[0m         \u001b[1;32mif\u001b[0m \u001b[0mself\u001b[0m\u001b[1;33m.\u001b[0m\u001b[0m_prepared\u001b[0m\u001b[1;33m[\u001b[0m\u001b[1;34m'parameters'\u001b[0m\u001b[1;33m]\u001b[0m \u001b[1;32mand\u001b[0m \u001b[1;32mnot\u001b[0m \u001b[0mparams\u001b[0m\u001b[1;33m:\u001b[0m\u001b[1;33m\u001b[0m\u001b[1;33m\u001b[0m\u001b[0m\n",
      "\u001b[1;32m~\\Anaconda3\\lib\\site-packages\\mysql\\connector\\connection.py\u001b[0m in \u001b[0;36mcmd_stmt_reset\u001b[1;34m(self, statement_id)\u001b[0m\n\u001b[0;32m   1035\u001b[0m         \"\"\"\n\u001b[0;32m   1036\u001b[0m         self._handle_ok(self._send_cmd(ServerCmd.STMT_RESET,\n\u001b[1;32m-> 1037\u001b[1;33m                                        int4store(statement_id)))\n\u001b[0m\u001b[0;32m   1038\u001b[0m \u001b[1;33m\u001b[0m\u001b[0m\n\u001b[0;32m   1039\u001b[0m     \u001b[1;32mdef\u001b[0m \u001b[0mcmd_reset_connection\u001b[0m\u001b[1;33m(\u001b[0m\u001b[0mself\u001b[0m\u001b[1;33m)\u001b[0m\u001b[1;33m:\u001b[0m\u001b[1;33m\u001b[0m\u001b[1;33m\u001b[0m\u001b[0m\n",
      "\u001b[1;32m~\\Anaconda3\\lib\\site-packages\\mysql\\connector\\connection.py\u001b[0m in \u001b[0;36m_send_cmd\u001b[1;34m(self, command, argument, packet_number, packet, expect_response, compressed_packet_number)\u001b[0m\n\u001b[0;32m    265\u001b[0m         \u001b[1;32mif\u001b[0m \u001b[1;32mnot\u001b[0m \u001b[0mexpect_response\u001b[0m\u001b[1;33m:\u001b[0m\u001b[1;33m\u001b[0m\u001b[1;33m\u001b[0m\u001b[0m\n\u001b[0;32m    266\u001b[0m             \u001b[1;32mreturn\u001b[0m \u001b[1;32mNone\u001b[0m\u001b[1;33m\u001b[0m\u001b[1;33m\u001b[0m\u001b[0m\n\u001b[1;32m--> 267\u001b[1;33m         \u001b[1;32mreturn\u001b[0m \u001b[0mself\u001b[0m\u001b[1;33m.\u001b[0m\u001b[0m_socket\u001b[0m\u001b[1;33m.\u001b[0m\u001b[0mrecv\u001b[0m\u001b[1;33m(\u001b[0m\u001b[1;33m)\u001b[0m\u001b[1;33m\u001b[0m\u001b[1;33m\u001b[0m\u001b[0m\n\u001b[0m\u001b[0;32m    268\u001b[0m \u001b[1;33m\u001b[0m\u001b[0m\n\u001b[0;32m    269\u001b[0m     \u001b[1;32mdef\u001b[0m \u001b[0m_send_data\u001b[0m\u001b[1;33m(\u001b[0m\u001b[0mself\u001b[0m\u001b[1;33m,\u001b[0m \u001b[0mdata_file\u001b[0m\u001b[1;33m,\u001b[0m \u001b[0msend_empty_packet\u001b[0m\u001b[1;33m=\u001b[0m\u001b[1;32mFalse\u001b[0m\u001b[1;33m)\u001b[0m\u001b[1;33m:\u001b[0m\u001b[1;33m\u001b[0m\u001b[1;33m\u001b[0m\u001b[0m\n",
      "\u001b[1;32m~\\Anaconda3\\lib\\site-packages\\mysql\\connector\\network.py\u001b[0m in \u001b[0;36mrecv_plain\u001b[1;34m(self)\u001b[0m\n\u001b[0;32m    239\u001b[0m             \u001b[0mpacket_len\u001b[0m \u001b[1;33m=\u001b[0m \u001b[1;36m0\u001b[0m\u001b[1;33m\u001b[0m\u001b[1;33m\u001b[0m\u001b[0m\n\u001b[0;32m    240\u001b[0m             \u001b[1;32mwhile\u001b[0m \u001b[0mpacket_len\u001b[0m \u001b[1;33m<\u001b[0m \u001b[1;36m4\u001b[0m\u001b[1;33m:\u001b[0m\u001b[1;33m\u001b[0m\u001b[1;33m\u001b[0m\u001b[0m\n\u001b[1;32m--> 241\u001b[1;33m                 \u001b[0mchunk\u001b[0m \u001b[1;33m=\u001b[0m \u001b[0mself\u001b[0m\u001b[1;33m.\u001b[0m\u001b[0msock\u001b[0m\u001b[1;33m.\u001b[0m\u001b[0mrecv\u001b[0m\u001b[1;33m(\u001b[0m\u001b[1;36m4\u001b[0m \u001b[1;33m-\u001b[0m \u001b[0mpacket_len\u001b[0m\u001b[1;33m)\u001b[0m\u001b[1;33m\u001b[0m\u001b[1;33m\u001b[0m\u001b[0m\n\u001b[0m\u001b[0;32m    242\u001b[0m                 \u001b[1;32mif\u001b[0m \u001b[1;32mnot\u001b[0m \u001b[0mchunk\u001b[0m\u001b[1;33m:\u001b[0m\u001b[1;33m\u001b[0m\u001b[1;33m\u001b[0m\u001b[0m\n\u001b[0;32m    243\u001b[0m                     \u001b[1;32mraise\u001b[0m \u001b[0merrors\u001b[0m\u001b[1;33m.\u001b[0m\u001b[0mInterfaceError\u001b[0m\u001b[1;33m(\u001b[0m\u001b[0merrno\u001b[0m\u001b[1;33m=\u001b[0m\u001b[1;36m2013\u001b[0m\u001b[1;33m)\u001b[0m\u001b[1;33m\u001b[0m\u001b[1;33m\u001b[0m\u001b[0m\n",
      "\u001b[1;31mKeyboardInterrupt\u001b[0m: "
     ]
    }
   ],
   "source": [
    "# mydb = mysql.connector.connect(\n",
    "#   host=hostname,\n",
    "#   user=username,\n",
    "#   passwd=password,\n",
    "#   db=database_name\n",
    "# )\n",
    "# cursor = mydb.cursor(prepared=True)\n",
    "\n",
    "# query = ''\n",
    "# for index, row in csv_data.iterrows():\n",
    "#         temp = row.tolist()\n",
    "#         insert_stmt = (\n",
    "#             \"INSERT INTO clean_data (id, campaignName, description, categories, duration, monetaryGoal, country, city, state, date_created, deadline_date, launched_date, state_changed_at, backers_count, usd_pledged, url, target)\"\n",
    "#             \"VALUES(%s,%s,%s,%s,%s,%s,%s,%s,%s,%s,%s,%s,%s,%s,%s,%s,%s)\"\n",
    "#         )\n",
    "#         cursor.execute(insert_stmt, temp)\n",
    "\n",
    "\n",
    "# mydb.commit();"
   ]
  },
  {
   "cell_type": "code",
   "execution_count": 19,
   "metadata": {},
   "outputs": [],
   "source": [
    "# Query function\n",
    "def get_query(query, info_str, curs):\n",
    "    \"\"\"\n",
    "    Execute and display queries\n",
    "    Add a comment as to what the query is\n",
    "    Add a line after\n",
    "    \"\"\"\n",
    "    curs.execute(query)\n",
    "    print(info_str, curs.fetchall(), '\\n')"
   ]
  },
  {
   "cell_type": "code",
   "execution_count": 23,
   "metadata": {},
   "outputs": [
    {
     "name": "stdout",
     "output_type": "stream",
     "text": [
      "Art [(3412, 635, 652)] \n",
      "\n"
     ]
    }
   ],
   "source": [
    "# Number of campaigns successful for the Art category\n",
    "\n",
    "campaigns_success_category = \"\"\"\n",
    "    SELECT COUNT(campaignName), monetaryGoal, usd_pledged FROM clean_data WHERE target = \"successful\" AND categories = \"Art\";\n",
    "\"\"\"\n",
    "\n",
    "get_query(campaigns_success_category, \"Art\", cursor)"
   ]
  },
  {
   "cell_type": "code",
   "execution_count": 27,
   "metadata": {},
   "outputs": [
    {
     "name": "stdout",
     "output_type": "stream",
     "text": [
      "Percent successful in Art [(Decimal('0.3288'),)] \n",
      "\n"
     ]
    }
   ],
   "source": [
    "# {#}% of campaigns in {persons category} are successful\n",
    "goal_2 = f'SELECT COUNT(*) / (SELECT COUNT(*) FROM clean_data WHERE categories = \"Video Art\") FROM clean_data WHERE target = \"successful\" AND categories = \"Video Art\";'\n",
    "\n",
    "get_query(goal_2, \"Percent successful in Art\", cursor)"
   ]
  },
  {
   "cell_type": "code",
   "execution_count": 47,
   "metadata": {},
   "outputs": [
    {
     "name": "stdout",
     "output_type": "stream",
     "text": [
      "AVG raised in category [(Decimal('5508.4167'),)] \n",
      "\n"
     ]
    }
   ],
   "source": [
    "goal_3 = f'SELECT AVG(usd_pledged) FROM clean_data WHERE target = \"successful\" AND categories = \"Video Art\";'\n",
    "    \n",
    "get_query(goal_3, \"AVG raised in category\", cursor)"
   ]
  },
  {
   "cell_type": "code",
   "execution_count": 61,
   "metadata": {},
   "outputs": [
    {
     "name": "stdout",
     "output_type": "stream",
     "text": [
      "AVG money raised above goal in category [(Decimal('898.6389'),)] \n",
      "\n"
     ]
    }
   ],
   "source": [
    "subquery = 'SELECT AVG(usd_pledged - monetaryGoal) AS diff FROM clean_data WHERE target = \"successful\" AND categories = \"Video Art\";'\n",
    "goal_6 = f'SELECT AVG(diff) FROM (SELECT (usd_pledged - monetaryGoal) AS diff FROM clean_data WHERE target = \"successful\" AND categories = \"Video Art\");'\n",
    "\n",
    "get_query(subquery, 'AVG money raised above goal in category', cursor)"
   ]
  },
  {
   "cell_type": "code",
   "execution_count": 206,
   "metadata": {},
   "outputs": [],
   "source": [
    "### Reset connection\n",
    "\n",
    "mydb = mysql.connector.connect(\n",
    "  host=hostname,\n",
    "  user=username,\n",
    "  passwd=password,\n",
    "  db=database_name\n",
    ")\n",
    "cursor = mydb.cursor(buffered=True)"
   ]
  },
  {
   "cell_type": "code",
   "execution_count": 195,
   "metadata": {
    "scrolled": false
   },
   "outputs": [
    {
     "data": {
      "text/plain": [
       "898.6389"
      ]
     },
     "execution_count": 195,
     "metadata": {},
     "output_type": "execute_result"
    }
   ],
   "source": [
    "def get_query(query, curs):\n",
    "    curs.execute(query)\n",
    "    return(curs.fetchall()[0][0])\n",
    "\n",
    "def custom_stats(category, goal):\n",
    "    # Create queries for each data goal\n",
    "\n",
    "    goal_1 = f'SELECT COUNT(campaignName) FROM clean_data WHERE target = \"successful\" AND monetaryGoal > {goal};'\n",
    "\n",
    "    goal_2 = f'SELECT COUNT(campaignName) / (SELECT COUNT(*) FROM clean_data WHERE categories = \"{category}\" ) FROM clean_data WHERE target = \"successful\" AND categories = \"{category}\";'\n",
    "\n",
    "    goal_3 = f'SELECT AVG(usd_pledged) FROM clean_data WHERE target = \"successful\" AND categories = \"{category}\";'\n",
    "    \n",
    "    goal_4 = f'SELECT AVG(duration) FROM clean_data WHERE target = \"successful\" AND monetaryGoal > {goal};'\n",
    "\n",
    "    # Change goal to estimate or range\n",
    "    goal_5 = f'SELECT AVG(backers_count) FROM clean_data WHERE target = \"successful\" AND monetaryGoal = {goal};'\n",
    "\n",
    "    # Similar to number 3, consider revising 3 to another stat\n",
    "    goal_6 = f'SELECT AVG(usd_pledged - monetaryGoal) AS diff FROM clean_data WHERE target = \"successful\" AND categories = \"{category}\";'\n",
    "\n",
    "    queries = [goal_1, goal_2, goal_3, goal_4, goal_5, goal_6]\n",
    "\n",
    "    results = []\n",
    "    for query in queries:\n",
    "        x = get_query(query, cursor)\n",
    "        results.append(float(x))\n",
    "    \n",
    "    return results\n",
    "    print(results)\n",
    "\n",
    "\n",
    "custom_results = custom_stats(\"Video Art\", 5000)\n",
    "\n",
    "custom_results[5]"
   ]
  },
  {
   "cell_type": "code",
   "execution_count": 210,
   "metadata": {
    "scrolled": true
   },
   "outputs": [
    {
     "data": {
      "text/plain": [
       "[289551,\n",
       " Decimal('0.5339'),\n",
       " Decimal('31.7519'),\n",
       " Decimal('25025.3995'),\n",
       " Decimal('15517.6138'),\n",
       " Decimal('289.6144')]"
      ]
     },
     "execution_count": 210,
     "metadata": {},
     "output_type": "execute_result"
    }
   ],
   "source": [
    "\n",
    "# how many campaigns total?\n",
    "stat1 = 'SELECT COUNT(*) FROM clean_data'\n",
    "\n",
    "# what percent of kickstarter campaigns are successful?\n",
    "stat2 = 'SELECT COUNT(*) / (SELECT COUNT(*) FROM clean_data) FROM clean_data WHERE target = \"successful\";'\n",
    "\n",
    "# what are the top 5 categories on kickstarter?\n",
    "stat3 = 'SELECT TOP 5 COUNT(DISTINCT(categories)) FROM clean_data;'\n",
    "\n",
    "# successful campaigns have an average duration of x days\n",
    "stat4 = 'SELECT AVG(duration) FROM clean_data WHERE target = \"successful\";'\n",
    "\n",
    "# the average amount raised by successful campaigns is $$$$\n",
    "stat5 = 'SELECT AVG(usd_pledged) FROM clean_data WHERE target = \"successful\"'\n",
    "\n",
    "# the category with the highest average amount raised successfully is?\n",
    "\n",
    "\n",
    "# successful campaigns raised an average of $$$$ more than their initial goal?\n",
    "stat7 = 'SELECT AVG(usd_pledged - monetaryGoal) AS diff FROM clean_data WHERE target = \"successful\";'\n",
    "\n",
    "# successful campaigns had an average of ### backers?\n",
    "stat8 = 'SELECT AVG(backers_count) FROM clean_data WHERE target = \"successful\";'\n",
    "\n",
    "general = [stat1, stat2, stat4, stat5, stat7, stat8]\n",
    "results = []\n",
    "for query in general:\n",
    "    x = get_query(query, cursor)\n",
    "    results.append(x)\n",
    "    \n",
    "results"
   ]
  }
 ],
 "metadata": {
  "kernelspec": {
   "display_name": "Python 3",
   "language": "python",
   "name": "python3"
  },
  "language_info": {
   "codemirror_mode": {
    "name": "ipython",
    "version": 3
   },
   "file_extension": ".py",
   "mimetype": "text/x-python",
   "name": "python",
   "nbconvert_exporter": "python",
   "pygments_lexer": "ipython3",
   "version": "3.7.3"
  }
 },
 "nbformat": 4,
 "nbformat_minor": 2
}
